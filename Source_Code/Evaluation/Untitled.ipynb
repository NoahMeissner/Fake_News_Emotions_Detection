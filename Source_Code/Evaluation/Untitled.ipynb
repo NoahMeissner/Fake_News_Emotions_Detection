{
 "cells": [
  {
   "cell_type": "markdown",
   "id": "d8d52868-6b75-486b-89a5-2b3046108ae6",
   "metadata": {},
   "source": [
    "### Model Evaluation"
   ]
  },
  {
   "cell_type": "code",
   "execution_count": 17,
   "id": "c381ba5e-695d-4685-9669-90a778f3f485",
   "metadata": {},
   "outputs": [],
   "source": [
    "#!pip install pingouin"
   ]
  },
  {
   "cell_type": "code",
   "execution_count": 44,
   "id": "43b88cb1-d882-4fcf-97b9-eff31d1d7585",
   "metadata": {},
   "outputs": [],
   "source": [
    "import pandas as pd\n",
    "import numpy as np\n",
    "import scipy\n",
    "from scipy.stats import f_oneway\n",
    "import pingouin as pg\n",
    "import statistics"
   ]
  },
  {
   "cell_type": "markdown",
   "id": "f14d4104-0ed7-49d1-8564-2a649f58e656",
   "metadata": {},
   "source": [
    "### Basic Model"
   ]
  },
  {
   "cell_type": "code",
   "execution_count": 45,
   "id": "ee9fe2b5-89f9-4b63-b995-af940c834512",
   "metadata": {},
   "outputs": [],
   "source": [
    "five_fold_basic = {\n",
    "    'first':{'eval_loss': 0.22239454090595245, 'eval_precision': 0.9909365558912386, 'eval_recall': 0.9900819318671842, 'eval_acc': 0.9902200488997555, 'eval_f1': 0.9905090595340811, 'eval_runtime': 47.6629, 'eval_samples_per_second': 188.784, 'eval_steps_per_second': 23.603, 'epoch': 3.0},\n",
    "    'second':{'eval_loss': 0.22058166563510895, 'eval_precision': 0.988860325621251, 'eval_recall': 0.9931153184165232, 'eval_acc': 0.9906645921315848, 'eval_f1': 0.9909832546157149, 'eval_runtime': 48.6988, 'eval_samples_per_second': 184.768, 'eval_steps_per_second': 23.101, 'epoch': 3.0},\n",
    "    'third':{'eval_loss': 0.21769903600215912, 'eval_precision': 0.9918803418803419, 'eval_recall': 0.9925165704511439, 'eval_acc': 0.99188618428365, 'eval_f1': 0.9921983541733461, 'eval_runtime': 47.2213, 'eval_samples_per_second': 190.529, 'eval_steps_per_second': 23.824, 'epoch': 3.0},\n",
    "    'fourth':{'eval_loss': 0.21264666318893433, 'eval_precision': 0.9919982698961938, 'eval_recall': 0.995658780117213, 'eval_acc': 0.9936645548516172, 'eval_f1': 0.9938251543711407, 'eval_runtime': 47.5638, 'eval_samples_per_second': 189.157, 'eval_steps_per_second': 23.652, 'epoch': 3.0},\n",
    "    'fifth':{'eval_loss': 0.21879464387893677, 'eval_precision': 0.9899032393773665, 'eval_recall': 0.9938753959873284, 'eval_acc': 0.9914415916416583, 'eval_f1': 0.9918853409210665, 'eval_runtime': 48.6429, 'eval_samples_per_second': 184.96, 'eval_steps_per_second': 23.128, 'epoch': 3.0},\n",
    "    'final':{'eval_loss': 0.2184233099222183, 'eval_precision': 0.9907157465332783, 'eval_recall': 0.9930495993678785, 'eval_acc': 0.9915753943616532, 'eval_f1': 0.9918802327230699, 'eval_runtime': 48.6429, 'eval_samples_per_second': 184.96, 'eval_steps_per_second': 23.128, 'epoch': 3.0},\n",
    "    'Evaluationset':{'accuracy': 0.786871129069652, 'precision': 0.7692877422540427, 'recall': 0.8221093595409273, 'eval_f1': 0.7948219239230941, 'total_time_in_seconds': 304.37948868999956, 'samples_per_second': 99.19525172325449, 'latency_in_seconds': 0.010081127701453965}\n",
    "}"
   ]
  },
  {
   "cell_type": "markdown",
   "id": "7db13f34-9129-4f1d-ab7b-a0f3c0b52843",
   "metadata": {},
   "source": [
    "### Valence Model"
   ]
  },
  {
   "cell_type": "code",
   "execution_count": 46,
   "id": "a8546168-26ff-44ea-8629-53cf002a3dd2",
   "metadata": {},
   "outputs": [],
   "source": [
    "five_fold_valence = {\n",
    "    'first':{'eval_loss': 0.6325486898422241, 'eval_precision': 0.7249779360343659, 'eval_recall': 0.7155571676063658, 'eval_acc': 0.8447432762836186, 'eval_f1': 0.720083734326234, 'eval_runtime': 16.8846, 'eval_samples_per_second': 532.911, 'eval_steps_per_second': 66.629, 'epoch': 3.0},\n",
    "    'second':{'eval_loss': 0.6418867111206055, 'eval_precision': 0.7265880406194318, 'eval_recall': 0.7267606485793969, 'eval_acc': 0.8448371679448705, 'eval_f1': 0.7266590189111026, 'eval_runtime': 17.4206, 'eval_samples_per_second': 516.457, 'eval_steps_per_second': 64.579, 'epoch': 3.0},\n",
    "    'third':{'eval_loss': 0.6196959614753723, 'eval_precision': 0.750059935108947, 'eval_recall': 0.7363300514914725, 'eval_acc': 0.8591752806491053, 'eval_f1': 0.7427388367687237, 'eval_runtime': 16.7805, 'eval_samples_per_second': 536.157, 'eval_steps_per_second': 67.042, 'epoch': 3.0},\n",
    "    'fourth':{'eval_loss': 0.628013551235199, 'eval_precision': 0.7271701352011103, 'eval_recall': 0.712514143939841, 'eval_acc': 0.8465043903523397, 'eval_f1': 0.7190834261472148, 'eval_runtime': 17.0095, 'eval_samples_per_second': 528.94, 'eval_steps_per_second': 66.14, 'epoch': 3.0},\n",
    "    'fifth':{'eval_loss': 0.6181963086128235, 'eval_precision': 0.743757001571541, 'eval_recall': 0.7343657269000845, 'eval_acc': 0.8519506502167389, 'eval_f1': 0.7389670620585779, 'eval_runtime': 17.2277, 'eval_samples_per_second': 522.242, 'eval_steps_per_second': 65.302, 'epoch': 3.0},\n",
    "    'final':{}\n",
    "}"
   ]
  },
  {
   "cell_type": "markdown",
   "id": "7659a3d5-0689-448d-97ac-d1621af6eefc",
   "metadata": {},
   "source": [
    "### Arousal Model"
   ]
  },
  {
   "cell_type": "code",
   "execution_count": 47,
   "id": "d43dc189-73f5-42ef-b6be-07b83c357103",
   "metadata": {},
   "outputs": [],
   "source": [
    "five_fold_arousal = {\n",
    "    'first':{},\n",
    "    'second':{},\n",
    "    'third':{},\n",
    "    'fourth':{},\n",
    "    'fifth':{},\n",
    "    'final':{}\n",
    "}"
   ]
  },
  {
   "cell_type": "markdown",
   "id": "cf5af0a6-0095-43d5-9c97-660aef8740a2",
   "metadata": {},
   "source": [
    "### Emotion Detection Fake News"
   ]
  },
  {
   "cell_type": "code",
   "execution_count": 30,
   "id": "28d35246-7d00-4d93-9702-4fd1804c9199",
   "metadata": {},
   "outputs": [],
   "source": [
    "five_fold_emotion_first = {\n",
    "    'first':{'accuracy': 0.6186, 'precision': 0.6214, 'recall': 0.6657, 'f1': 0.6428},\n",
    "    'second':{'accuracy': 0.6146, 'precision': 0.6251, 'recall': 0.6308, 'f1': 0.6279},\n",
    "    'third':{'accuracy': 0.6215, 'precision': 0.6274, 'recall': 0.6545, 'f1': 0.6406},\n",
    "    'fourth':{'accuracy': 0.6071, 'precision': 0.6168, 'recall': 0.6279, 'f1': 0.6223},\n",
    "    'fifth':{'accuracy': 0.6075, 'precision': 0.6165, 'recall': 0.6317, 'f1': 0.6240},\n",
    "    'final':{'accuracy': 0.6138, 'precision': 0.6214, 'recall': 0.6421, 'f1': 0.6315},\n",
    "    'Evaluation':{'accuracy': 0.6020536601523684,'precision': 0.6006915540756868,'recall': 0.6188402928953097,'f1': 0.6096308812061347}\n",
    "}\n",
    "\n",
    "five_fold_emotion_second = {\n",
    "    'first':{'accuracy': 0.6123, 'precision': 0.6036, 'recall': 0.5626, 'f1': 0.5824},\n",
    "    'second':{'accuracy': 0.6128, 'precision': 0.6117, 'recall': 0.5316, 'f1': 0.5688},\n",
    "    'third':{'accuracy': 0.6117, 'precision': 0.6032, 'recall': 0.5606, 'f1': 0.5811},\n",
    "    'fourth':{'accuracy': 0.5999, 'precision': 0.5993, 'recall': 0.5043, 'f1': 0.5477},\n",
    "    'fifth':{'accuracy': 0.6093, 'precision': 0.6027, 'recall': 0.5481, 'f1': 0.5741},\n",
    "    'final':{'accuracy': 0.6092, 'precision': 0.5415, 'recall': 0.5481, 'f1': 0.5708},\n",
    "    'Evaluation':{'accuracy': 0.6020536601523684,'precision': 0.6006915540756868,'recall': 0.6188402928953097,'f1': 0.6096308812061347}\n",
    "}"
   ]
  },
  {
   "cell_type": "markdown",
   "id": "a724f024-73f6-4791-a1f7-860562717749",
   "metadata": {},
   "source": [
    "### Evaluation"
   ]
  },
  {
   "cell_type": "code",
   "execution_count": 31,
   "id": "a9f0bd97-c0ec-4ab1-96ba-06f407556786",
   "metadata": {},
   "outputs": [],
   "source": [
    "def get_data(key, df):\n",
    "    ls = []\n",
    "    ls.append(df['first'][key])\n",
    "    ls.append(df['second'][key])\n",
    "    ls.append(df['third'][key])\n",
    "    ls.append(df['fourth'][key])\n",
    "    ls.append(df['fifth'][key])\n",
    "    return ls"
   ]
  },
  {
   "cell_type": "code",
   "execution_count": 42,
   "id": "fbbadfb6-6482-4897-a9b9-4636940eddaf",
   "metadata": {},
   "outputs": [
    {
     "name": "stdout",
     "output_type": "stream",
     "text": [
      "Accuracy:0.9915753943616532\n",
      "Precision:0.9907157465332783\n",
      "Recall:0.9930495993678785\n",
      "F1:0.9918802327230699\n",
      "loss:0.2184233099222183\n"
     ]
    }
   ],
   "source": [
    "avg_accuracy = statistics.mean(get_data('eval_acc',five_fold_basic))\n",
    "avg_precision = statistics.mean(get_data('eval_precision',five_fold_basic))\n",
    "avg_recall = statistics.mean(get_data('eval_recall',five_fold_basic))\n",
    "avg_f1 = statistics.mean(get_data('eval_f1',five_fold_basic))\n",
    "avg_loss = statistics.mean(get_data('eval_loss',five_fold_basic))\n",
    "\n",
    "print(f'Accuracy:{avg_accuracy}')\n",
    "print(f'Precision:{avg_precision}')\n",
    "print(f'Recall:{avg_recall}')\n",
    "print(f'F1:{avg_f1}')\n",
    "print(f'loss:{avg_loss}')\n"
   ]
  },
  {
   "cell_type": "code",
   "execution_count": 33,
   "id": "24efbf06-fbaf-4e7c-b90d-cc2a99a3c2b1",
   "metadata": {},
   "outputs": [
    {
     "data": {
      "text/html": [
       "<div>\n",
       "<style scoped>\n",
       "    .dataframe tbody tr th:only-of-type {\n",
       "        vertical-align: middle;\n",
       "    }\n",
       "\n",
       "    .dataframe tbody tr th {\n",
       "        vertical-align: top;\n",
       "    }\n",
       "\n",
       "    .dataframe thead th {\n",
       "        text-align: right;\n",
       "    }\n",
       "</style>\n",
       "<table border=\"1\" class=\"dataframe\">\n",
       "  <thead>\n",
       "    <tr style=\"text-align: right;\">\n",
       "      <th></th>\n",
       "      <th>T</th>\n",
       "      <th>dof</th>\n",
       "      <th>alternative</th>\n",
       "      <th>p-val</th>\n",
       "      <th>CI95%</th>\n",
       "      <th>cohen-d</th>\n",
       "      <th>BF10</th>\n",
       "      <th>power</th>\n",
       "    </tr>\n",
       "  </thead>\n",
       "  <tbody>\n",
       "    <tr>\n",
       "      <th>T-test</th>\n",
       "      <td>15.320762</td>\n",
       "      <td>4</td>\n",
       "      <td>two-sided</td>\n",
       "      <td>0.000106</td>\n",
       "      <td>[0.05, 0.07]</td>\n",
       "      <td>5.055052</td>\n",
       "      <td>197.102</td>\n",
       "      <td>1.0</td>\n",
       "    </tr>\n",
       "  </tbody>\n",
       "</table>\n",
       "</div>"
      ],
      "text/plain": [
       "                T  dof alternative     p-val         CI95%   cohen-d     BF10  \\\n",
       "T-test  15.320762    4   two-sided  0.000106  [0.05, 0.07]  5.055052  197.102   \n",
       "\n",
       "        power  \n",
       "T-test    1.0  "
      ]
     },
     "execution_count": 33,
     "metadata": {},
     "output_type": "execute_result"
    }
   ],
   "source": [
    "# Emotions Model 1 / Emotions Model 2\n",
    "emotions_one = get_data('f1',five_fold_emotion_first)\n",
    "emotions_two = get_data('f1',five_fold_emotion_second)\n",
    "pg.ttest(emotions_one, emotions_two, paired=True)"
   ]
  },
  {
   "cell_type": "code",
   "execution_count": 35,
   "id": "1a5e59d3-f69a-4ab9-b66a-fd9701a2490d",
   "metadata": {},
   "outputs": [
    {
     "data": {
      "text/html": [
       "<div>\n",
       "<style scoped>\n",
       "    .dataframe tbody tr th:only-of-type {\n",
       "        vertical-align: middle;\n",
       "    }\n",
       "\n",
       "    .dataframe tbody tr th {\n",
       "        vertical-align: top;\n",
       "    }\n",
       "\n",
       "    .dataframe thead th {\n",
       "        text-align: right;\n",
       "    }\n",
       "</style>\n",
       "<table border=\"1\" class=\"dataframe\">\n",
       "  <thead>\n",
       "    <tr style=\"text-align: right;\">\n",
       "      <th></th>\n",
       "      <th>T</th>\n",
       "      <th>dof</th>\n",
       "      <th>alternative</th>\n",
       "      <th>p-val</th>\n",
       "      <th>CI95%</th>\n",
       "      <th>cohen-d</th>\n",
       "      <th>BF10</th>\n",
       "      <th>power</th>\n",
       "    </tr>\n",
       "  </thead>\n",
       "  <tbody>\n",
       "    <tr>\n",
       "      <th>T-test</th>\n",
       "      <td>78.125305</td>\n",
       "      <td>4</td>\n",
       "      <td>two-sided</td>\n",
       "      <td>1.608830e-07</td>\n",
       "      <td>[0.35, 0.37]</td>\n",
       "      <td>52.922908</td>\n",
       "      <td>2.511e+04</td>\n",
       "      <td>1.0</td>\n",
       "    </tr>\n",
       "  </tbody>\n",
       "</table>\n",
       "</div>"
      ],
      "text/plain": [
       "                T  dof alternative         p-val         CI95%    cohen-d  \\\n",
       "T-test  78.125305    4   two-sided  1.608830e-07  [0.35, 0.37]  52.922908   \n",
       "\n",
       "             BF10  power  \n",
       "T-test  2.511e+04    1.0  "
      ]
     },
     "execution_count": 35,
     "metadata": {},
     "output_type": "execute_result"
    }
   ],
   "source": [
    "# Basic Classification Model / Emotions Model 1\n",
    "emotions_one = get_data('f1',five_fold_emotion_first)\n",
    "basic = get_data('eval_f1',five_fold_basic)\n",
    "pg.ttest(basic, emotions_one , paired=True)"
   ]
  },
  {
   "cell_type": "code",
   "execution_count": 16,
   "id": "1187e0d1-7a5d-40e4-bd58-12d43a22cb5c",
   "metadata": {},
   "outputs": [
    {
     "name": "stderr",
     "output_type": "stream",
     "text": [
      "/opt/anaconda3/lib/python3.11/site-packages/pingouin/parametric.py:248: UserWarning: x and y are equals. Cannot compute T or p-value.\n",
      "  warnings.warn(\"x and y are equals. Cannot compute T or p-value.\")\n"
     ]
    },
    {
     "data": {
      "text/html": [
       "<div>\n",
       "<style scoped>\n",
       "    .dataframe tbody tr th:only-of-type {\n",
       "        vertical-align: middle;\n",
       "    }\n",
       "\n",
       "    .dataframe tbody tr th {\n",
       "        vertical-align: top;\n",
       "    }\n",
       "\n",
       "    .dataframe thead th {\n",
       "        text-align: right;\n",
       "    }\n",
       "</style>\n",
       "<table border=\"1\" class=\"dataframe\">\n",
       "  <thead>\n",
       "    <tr style=\"text-align: right;\">\n",
       "      <th></th>\n",
       "      <th>T</th>\n",
       "      <th>dof</th>\n",
       "      <th>alternative</th>\n",
       "      <th>p-val</th>\n",
       "      <th>CI95%</th>\n",
       "      <th>cohen-d</th>\n",
       "      <th>BF10</th>\n",
       "      <th>power</th>\n",
       "    </tr>\n",
       "  </thead>\n",
       "  <tbody>\n",
       "    <tr>\n",
       "      <th>T-test</th>\n",
       "      <td>NaN</td>\n",
       "      <td>3</td>\n",
       "      <td>two-sided</td>\n",
       "      <td>NaN</td>\n",
       "      <td>[nan, nan]</td>\n",
       "      <td>0.0</td>\n",
       "      <td>nan</td>\n",
       "      <td>0.05</td>\n",
       "    </tr>\n",
       "  </tbody>\n",
       "</table>\n",
       "</div>"
      ],
      "text/plain": [
       "          T  dof alternative p-val       CI95%  cohen-d BF10  power\n",
       "T-test  NaN    3   two-sided   NaN  [nan, nan]      0.0  nan   0.05"
      ]
     },
     "execution_count": 16,
     "metadata": {},
     "output_type": "execute_result"
    }
   ],
   "source": [
    "# Arousal vs. Valence Model\n",
    "arousal_f1 = get_data('eval_f1',five_fold_arousal)\n",
    "valence_f1 = get_data('eval_f1',five_fold_valence)\n",
    "pg.ttest(arousal_f1, valence_f1, paired=True)"
   ]
  },
  {
   "cell_type": "code",
   "execution_count": null,
   "id": "0ed4cc6e-d1f5-48e5-952e-5883dbf2b5e5",
   "metadata": {},
   "outputs": [],
   "source": []
  }
 ],
 "metadata": {
  "kernelspec": {
   "display_name": "Python 3 (ipykernel)",
   "language": "python",
   "name": "python3"
  },
  "language_info": {
   "codemirror_mode": {
    "name": "ipython",
    "version": 3
   },
   "file_extension": ".py",
   "mimetype": "text/x-python",
   "name": "python",
   "nbconvert_exporter": "python",
   "pygments_lexer": "ipython3",
   "version": "3.11.7"
  }
 },
 "nbformat": 4,
 "nbformat_minor": 5
}
