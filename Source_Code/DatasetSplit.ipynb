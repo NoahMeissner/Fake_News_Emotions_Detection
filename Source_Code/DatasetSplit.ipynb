{
 "cells": [
  {
   "cell_type": "markdown",
   "id": "8d827ff3-b125-44c9-a19a-5d4da3318fa2",
   "metadata": {},
   "source": [
    "## Dataset Preperation"
   ]
  },
  {
   "cell_type": "markdown",
   "id": "7a20113c-6db2-4669-8c22-b2340b3be622",
   "metadata": {},
   "source": [
    "In this notebook, the data set is divided into distinct categories. A training split, comprising a training, test, and validation subset, is created. These subsets are divided on the basis of topics. This approach has the advantage of ensuring that topics not addressed in the training set are included in the evaluation. "
   ]
  },
  {
   "cell_type": "markdown",
   "id": "5e77e5f0-0188-4dce-880a-5f67b11a29a6",
   "metadata": {},
   "source": [
    "### Imports"
   ]
  },
  {
   "cell_type": "code",
   "execution_count": 2,
   "id": "08b3adb4-775c-4b84-ba9c-bcbe90d2550d",
   "metadata": {},
   "outputs": [],
   "source": [
    "import pandas as pd\n",
    "import csv\n",
    "import numpy as np\n",
    "from sklearn.model_selection import train_test_split"
   ]
  },
  {
   "cell_type": "markdown",
   "id": "f41118e6-6d0c-47f4-8ff2-7890f1065d3f",
   "metadata": {},
   "source": [
    "### Load Truth Seeker Dataset"
   ]
  },
  {
   "cell_type": "code",
   "execution_count": 3,
   "id": "fc334c96-9241-4a96-9dbe-3c073faf4851",
   "metadata": {},
   "outputs": [],
   "source": [
    "df = pd.read_csv(\"Dataset/Features_For_Traditional_ML_Techniques.csv\")"
   ]
  },
  {
   "cell_type": "code",
   "execution_count": 4,
   "id": "7db55950-c36d-4c8c-a4b4-3211130d32c6",
   "metadata": {},
   "outputs": [
    {
     "name": "stdout",
     "output_type": "stream",
     "text": [
      "Index(['Unnamed: 0', 'majority_target', 'statement', 'BinaryNumTarget',\n",
      "       'tweet', 'followers_count', 'friends_count', 'favourites_count',\n",
      "       'statuses_count', 'listed_count', 'following', 'embeddings', 'BotScore',\n",
      "       'BotScoreBinary', 'cred', 'normalize_influence', 'mentions', 'quotes',\n",
      "       'replies', 'retweets', 'favourites', 'hashtags', 'URLs', 'unique_count',\n",
      "       'total_count', 'ORG_percentage', 'NORP_percentage', 'GPE_percentage',\n",
      "       'PERSON_percentage', 'MONEY_percentage', 'DATE_percentage',\n",
      "       'CARDINAL_percentage', 'PERCENT_percentage', 'ORDINAL_percentage',\n",
      "       'FAC_percentage', 'LAW_percentage', 'PRODUCT_percentage',\n",
      "       'EVENT_percentage', 'TIME_percentage', 'LOC_percentage',\n",
      "       'WORK_OF_ART_percentage', 'QUANTITY_percentage', 'LANGUAGE_percentage',\n",
      "       'Word count', 'Max word length', 'Min word length',\n",
      "       'Average word length', 'present_verbs', 'past_verbs', 'adjectives',\n",
      "       'adverbs', 'adpositions', 'pronouns', 'TOs', 'determiners',\n",
      "       'conjunctions', 'dots', 'exclamation', 'questions', 'ampersand',\n",
      "       'capitals', 'digits', 'long_word_freq', 'short_word_freq'],\n",
      "      dtype='object')\n"
     ]
    }
   ],
   "source": [
    "print(df.columns)"
   ]
  },
  {
   "cell_type": "markdown",
   "id": "40d33efb-5465-411c-8716-b7eb6d967ee7",
   "metadata": {},
   "source": [
    "### Split Dataset based on Topics"
   ]
  },
  {
   "cell_type": "code",
   "execution_count": 5,
   "id": "a1c7124a-eb5d-4d75-a06c-78e7f30b5ed4",
   "metadata": {},
   "outputs": [],
   "source": [
    "unique_statements = df[\"statement\"].unique()\n",
    "train_statements, test_statements = train_test_split(unique_statements, test_size=0.2, random_state=42)"
   ]
  },
  {
   "cell_type": "code",
   "execution_count": 6,
   "id": "8498fef0-0641-424b-b377-41aa38831972",
   "metadata": {},
   "outputs": [
    {
     "name": "stdout",
     "output_type": "stream",
     "text": [
      "Evaluation Dataset: 212 Topics\n",
      "Train Dataset: 846 Topics\n"
     ]
    }
   ],
   "source": [
    "print(f\"Evaluation Dataset: {len(test_statements)} Topics\")\n",
    "print(f\"Train Dataset: {len(train_statements)} Topics\")"
   ]
  },
  {
   "cell_type": "markdown",
   "id": "ec1c80c7-ac0e-4aa8-966c-ec5406e7e632",
   "metadata": {},
   "source": [
    "### Collect Tweets from Topics"
   ]
  },
  {
   "cell_type": "code",
   "execution_count": 7,
   "id": "ca0440a4-408e-4bed-8d7f-8392531886fb",
   "metadata": {},
   "outputs": [],
   "source": [
    "selected_rows = []\n",
    "for statement in test_statements:\n",
    "    matching_rows = df[df[\"statement\"] == statement]\n",
    "    \n",
    "    selected_rows.append(matching_rows)\n",
    "\n",
    "test_df = pd.concat(selected_rows, ignore_index=True)"
   ]
  },
  {
   "cell_type": "code",
   "execution_count": 8,
   "id": "c0ae3b35-1861-4e76-b5fe-5ba4a4292a0a",
   "metadata": {},
   "outputs": [],
   "source": [
    "selected_rows = []\n",
    "for statement in train_statements:\n",
    "    matching_rows = df[df[\"statement\"] == statement]\n",
    "    \n",
    "    selected_rows.append(matching_rows)\n",
    "\n",
    "train_df = pd.concat(selected_rows, ignore_index=True)"
   ]
  },
  {
   "cell_type": "code",
   "execution_count": 9,
   "id": "014c1e09-2afd-49ae-bcd3-fc21bd592453",
   "metadata": {},
   "outputs": [
    {
     "name": "stdout",
     "output_type": "stream",
     "text": [
      "Tweets Trainingset: 104005 Tweets\n",
      "Tweets Evaluation: 30193 Tweets\n"
     ]
    }
   ],
   "source": [
    "print(f\"Tweets Trainingset: {len(train_df)} Tweets\")\n",
    "print(f\"Tweets Evaluation: {len(test_df)} Tweets\")"
   ]
  },
  {
   "cell_type": "markdown",
   "id": "1c8d7055-4d70-4abb-8361-8d1329075e0d",
   "metadata": {},
   "source": [
    "### Check Balance"
   ]
  },
  {
   "cell_type": "code",
   "execution_count": 10,
   "id": "7159a085-5482-499c-a596-6057034e8ec2",
   "metadata": {},
   "outputs": [
    {
     "name": "stdout",
     "output_type": "stream",
     "text": [
      "Balance Evaluation set: 0.4978637432517471\n",
      "Balance Training: 0.4830152396519398\n"
     ]
    }
   ],
   "source": [
    "print(f'Balance Evaluation set: {len(test_df[test_df[\"BinaryNumTarget\"]==0]) / len(test_df)}')\n",
    "print(f'Balance Training: {len(train_df[train_df[\"BinaryNumTarget\"]==0])/len(train_df)}')"
   ]
  },
  {
   "cell_type": "markdown",
   "id": "ad18b62c-eb3c-4fc4-8155-b89221cfce81",
   "metadata": {},
   "source": [
    "### Save Sets"
   ]
  },
  {
   "cell_type": "code",
   "execution_count": 12,
   "id": "085f4941-a971-4efd-8ff7-d3ea413247db",
   "metadata": {},
   "outputs": [],
   "source": [
    "test_df = test_df.rename(columns={\"Unnamed: 0\": \"id\"})\n",
    "train_df = train_df.rename(columns={\"Unnamed: 0\": \"id\"})\n",
    "\n",
    "test_df = test_df.astype(str)\n",
    "train_df = train_df.astype(str)\n",
    "test_df.to_csv(\"Dataset/evaluation.csv\", index=False, quoting=csv.QUOTE_ALL, escapechar='\\\\')\n",
    "train_df.to_csv(\"Dataset/train.csv\", index=False, quoting=csv.QUOTE_ALL, escapechar='\\\\')"
   ]
  },
  {
   "cell_type": "markdown",
   "id": "5a35aa53-c5d8-4790-8d77-7b930f17ca19",
   "metadata": {},
   "source": [
    "### Annotationset"
   ]
  },
  {
   "cell_type": "code",
   "execution_count": 13,
   "id": "1289f388-5d7e-4ebc-a4f8-e9dd6ccbe5e8",
   "metadata": {},
   "outputs": [
    {
     "data": {
      "text/plain": [
       "1041"
      ]
     },
     "execution_count": 13,
     "metadata": {},
     "output_type": "execute_result"
    }
   ],
   "source": [
    "train_annotation, label_annotation = train_test_split(train_df, test_size=0.01, random_state=42)\n",
    "len(label_annotation)"
   ]
  },
  {
   "cell_type": "code",
   "execution_count": 14,
   "id": "0949ff03-56e9-4f15-9a22-83b9fb74067c",
   "metadata": {},
   "outputs": [
    {
     "name": "stdout",
     "output_type": "stream",
     "text": [
      "Balance Labeset: 0.5504322766570605\n",
      "Unique Topics: 339\n"
     ]
    }
   ],
   "source": [
    "print(f'Balance Labeset: {len(label_annotation[label_annotation[\"BinaryNumTarget\"]==\"1.0\"])/len(label_annotation)}')\n",
    "print(f'Unique Topics: {len(label_annotation[\"statement\"].unique())}')"
   ]
  },
  {
   "cell_type": "code",
   "execution_count": 15,
   "id": "9ced5bcd-79cf-41a7-8c90-0c044b6d35cd",
   "metadata": {},
   "outputs": [],
   "source": [
    "label_annotation = label_annotation.rename(columns={\"Unnamed: 0\": \"id\"})\n",
    "label_set = label_annotation[['id', 'tweet']]"
   ]
  },
  {
   "cell_type": "markdown",
   "id": "127bbc7c-865e-4c6d-a446-1956dbcd8de1",
   "metadata": {},
   "source": [
    "### Create Test Label Set"
   ]
  },
  {
   "cell_type": "code",
   "execution_count": 17,
   "id": "09b5838e-1144-4fc4-a6f5-dd52feb8853a",
   "metadata": {},
   "outputs": [],
   "source": [
    "df_label = label_set"
   ]
  },
  {
   "cell_type": "code",
   "execution_count": 20,
   "id": "a1a8049d-8a6f-4491-816c-5cb2bd8cf9da",
   "metadata": {},
   "outputs": [],
   "source": [
    "df_label['Valence_Positive'] = None\n",
    "df_label['Valence_Neutral'] = None\n",
    "df_label['Valence_Negative'] = None\n",
    "df_label['Arousal_High'] = None\n",
    "df_label['Arousal_Medium'] = None\n",
    "df_label['Arousal_Low'] = None\n",
    "df_label.to_csv(\"Dataset/label_annotation.csv\", index=False, quoting=csv.QUOTE_ALL, escapechar='\\\\', sep=';',)"
   ]
  },
  {
   "cell_type": "markdown",
   "id": "2fa9109c-49c6-4b57-992f-2e926cab5080",
   "metadata": {},
   "source": [
    "### Split into Training Models each and together"
   ]
  },
  {
   "cell_type": "code",
   "execution_count": 23,
   "id": "9bbc33cc-6689-4400-84fc-2f30b84bd0e8",
   "metadata": {},
   "outputs": [],
   "source": [
    "ls = df_label['id']\n",
    "train = train_df[~train_df['id'].isin(ls)]"
   ]
  },
  {
   "cell_type": "code",
   "execution_count": 27,
   "id": "8f27ee3d-2786-4ef4-b537-8c64dfae834d",
   "metadata": {},
   "outputs": [
    {
     "data": {
      "text/plain": [
       "61778"
      ]
     },
     "execution_count": 27,
     "metadata": {},
     "output_type": "execute_result"
    }
   ],
   "source": [
    "train_each_annotation, train_together_annotation = train_test_split(train, test_size=0.4, random_state=42)"
   ]
  },
  {
   "cell_type": "code",
   "execution_count": 29,
   "id": "dd7d4ed2-3ee2-483a-b2db-7cf789e54727",
   "metadata": {},
   "outputs": [],
   "source": [
    "train_each_annotation.to_csv(\"Dataset/annotation_emotion_and_label_bert.csv\", index=False)\n",
    "train_together_annotation.to_csv(\"Dataset/train_emotion_together.csv\", index=False)"
   ]
  },
  {
   "cell_type": "code",
   "execution_count": null,
   "id": "56f5d6d5-119e-494c-abae-6973e929c19b",
   "metadata": {},
   "outputs": [],
   "source": []
  }
 ],
 "metadata": {
  "kernelspec": {
   "display_name": "Python 3 (ipykernel)",
   "language": "python",
   "name": "python3"
  },
  "language_info": {
   "codemirror_mode": {
    "name": "ipython",
    "version": 3
   },
   "file_extension": ".py",
   "mimetype": "text/x-python",
   "name": "python",
   "nbconvert_exporter": "python",
   "pygments_lexer": "ipython3",
   "version": "3.11.7"
  }
 },
 "nbformat": 4,
 "nbformat_minor": 5
}
