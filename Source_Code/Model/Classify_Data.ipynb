{
 "cells": [
  {
   "cell_type": "markdown",
   "id": "a378d7fd-0c0e-4f64-b4ea-de195e5f9ea0",
   "metadata": {},
   "source": [
    "# Third Model"
   ]
  },
  {
   "cell_type": "markdown",
   "id": "f2828d22-0dce-4a08-84fb-c902f1c2275c",
   "metadata": {},
   "source": [
    "In diesem Modell, sollen die Arousal, Valence als Parameter mit verwendet werden.\n",
    "1. Teil Testetn wie die Modelle welche Accuracy sie haben\n",
    "2. Teil Auswerten was sie sagen\n",
    "3. Teil auf basis dessen modelle trainieren"
   ]
  },
  {
   "cell_type": "code",
   "execution_count": 1,
   "id": "287b1645-abca-4ee1-a4dd-e1b63a7d42ab",
   "metadata": {},
   "outputs": [],
   "source": [
    "#!pip install transformers"
   ]
  },
  {
   "cell_type": "markdown",
   "id": "5f125219-cfc2-4810-b9b9-035f99b7a99c",
   "metadata": {},
   "source": [
    "### Kuenstliche Daten erstellen"
   ]
  },
  {
   "cell_type": "code",
   "execution_count": 4,
   "id": "45abb0e6-d397-4247-be42-fb96c5c2e6ed",
   "metadata": {},
   "outputs": [],
   "source": [
    "from transformers import AutoTokenizer, AutoModelForSequenceClassification\n",
    "import pandas as pd\n",
    "import torch\n",
    "from tqdm import tqdm\n",
    "import time"
   ]
  },
  {
   "cell_type": "code",
   "execution_count": 3,
   "id": "69f3fdd9-1260-49aa-bff1-4c8e58c47f0b",
   "metadata": {},
   "outputs": [],
   "source": [
    "tokenizer_eomtion = AutoTokenizer.from_pretrained('SamLowe/roberta-base-go_emotions')\n",
    "tokenizer_Fake_Model = AutoTokenizer.from_pretrained('EmotionsProject/model_Clasic')\n",
    "tokenizer_Aurosal = AutoTokenizer.from_pretrained('Ann/Arousal_Model/')\n",
    "tokenizer_Valence = AutoTokenizer.from_pretrained('Ann/Valence_Model/')\n"
   ]
  },
  {
   "cell_type": "code",
   "execution_count": 4,
   "id": "9f5ceff2-c8fd-40ac-97aa-c6a240fbeeb3",
   "metadata": {},
   "outputs": [],
   "source": [
    "model_evaluation= AutoModelForSequenceClassification.from_pretrained('SamLowe/roberta-base-go_emotions')\n",
    "model_fake_model = AutoModelForSequenceClassification.from_pretrained('EmotionsProject/model_Clasic')\n",
    "model_arousal = AutoModelForSequenceClassification.from_pretrained('Ann/Arousal_Model/')\n",
    "model_valence = AutoModelForSequenceClassification.from_pretrained('Ann/Valence_Model/')"
   ]
  },
  {
   "cell_type": "code",
   "execution_count": 5,
   "id": "57c7d3e6-af18-47cc-85cd-51bf0f9e9c61",
   "metadata": {},
   "outputs": [
    {
     "data": {
      "text/plain": [
       "BertForSequenceClassification(\n",
       "  (bert): BertModel(\n",
       "    (embeddings): BertEmbeddings(\n",
       "      (word_embeddings): Embedding(30522, 768, padding_idx=0)\n",
       "      (position_embeddings): Embedding(512, 768)\n",
       "      (token_type_embeddings): Embedding(2, 768)\n",
       "      (LayerNorm): LayerNorm((768,), eps=1e-12, elementwise_affine=True)\n",
       "      (dropout): Dropout(p=0.1, inplace=False)\n",
       "    )\n",
       "    (encoder): BertEncoder(\n",
       "      (layer): ModuleList(\n",
       "        (0-11): 12 x BertLayer(\n",
       "          (attention): BertAttention(\n",
       "            (self): BertSdpaSelfAttention(\n",
       "              (query): Linear(in_features=768, out_features=768, bias=True)\n",
       "              (key): Linear(in_features=768, out_features=768, bias=True)\n",
       "              (value): Linear(in_features=768, out_features=768, bias=True)\n",
       "              (dropout): Dropout(p=0.1, inplace=False)\n",
       "            )\n",
       "            (output): BertSelfOutput(\n",
       "              (dense): Linear(in_features=768, out_features=768, bias=True)\n",
       "              (LayerNorm): LayerNorm((768,), eps=1e-12, elementwise_affine=True)\n",
       "              (dropout): Dropout(p=0.1, inplace=False)\n",
       "            )\n",
       "          )\n",
       "          (intermediate): BertIntermediate(\n",
       "            (dense): Linear(in_features=768, out_features=3072, bias=True)\n",
       "            (intermediate_act_fn): GELUActivation()\n",
       "          )\n",
       "          (output): BertOutput(\n",
       "            (dense): Linear(in_features=3072, out_features=768, bias=True)\n",
       "            (LayerNorm): LayerNorm((768,), eps=1e-12, elementwise_affine=True)\n",
       "            (dropout): Dropout(p=0.1, inplace=False)\n",
       "          )\n",
       "        )\n",
       "      )\n",
       "    )\n",
       "    (pooler): BertPooler(\n",
       "      (dense): Linear(in_features=768, out_features=768, bias=True)\n",
       "      (activation): Tanh()\n",
       "    )\n",
       "  )\n",
       "  (dropout): Dropout(p=0.1, inplace=False)\n",
       "  (classifier): Linear(in_features=768, out_features=2, bias=True)\n",
       ")"
      ]
     },
     "execution_count": 5,
     "metadata": {},
     "output_type": "execute_result"
    }
   ],
   "source": [
    "model_valence.eval()\n",
    "model_arousal.eval()\n",
    "model_evaluation.eval()\n",
    "model_fake_model.eval()"
   ]
  },
  {
   "cell_type": "code",
   "execution_count": 6,
   "id": "77b1a788-cf3e-47d8-ad94-54aaf620ad0a",
   "metadata": {},
   "outputs": [],
   "source": [
    "def valence_decode_vectorized(series):\n",
    "    valence_map = {0: 'positive', 1: 'neutral', 2: 'negative'}\n",
    "    return valence_map[series]\n",
    "\n",
    "def arousal_decode_vectorized(series):\n",
    "    arousal_map = {0: 'high', 1: 'medium', 2: 'low'}\n",
    "    return arousal_map[series]"
   ]
  },
  {
   "cell_type": "code",
   "execution_count": 3,
   "id": "736fab1b-fd81-48bd-9f9d-7e6a4c7a468d",
   "metadata": {},
   "outputs": [],
   "source": [
    "df = pd.read_csv(\"../Dataset/train_emotion_together.csv\")\n",
    "#df = pd.read_csv(\"../Dataset/evaluate.csv\")# both necessary"
   ]
  },
  {
   "cell_type": "code",
   "execution_count": 9,
   "id": "08b02c30-e0b7-4341-a3ae-be91499ea473",
   "metadata": {},
   "outputs": [
    {
     "data": {
      "text/plain": [
       "Index(['Unnamed: 0.1', 'Unnamed: 0', 'id', 'majority_target', 'statement',\n",
       "       'BinaryNumTarget', 'tweet', 'followers_count', 'friends_count',\n",
       "       'favourites_count', 'statuses_count', 'listed_count', 'following',\n",
       "       'embeddings', 'BotScore', 'BotScoreBinary', 'cred',\n",
       "       'normalize_influence', 'mentions', 'quotes', 'replies', 'retweets',\n",
       "       'favourites', 'hashtags', 'URLs', 'unique_count', 'total_count',\n",
       "       'ORG_percentage', 'NORP_percentage', 'GPE_percentage',\n",
       "       'PERSON_percentage', 'MONEY_percentage', 'DATE_percentage',\n",
       "       'CARDINAL_percentage', 'PERCENT_percentage', 'ORDINAL_percentage',\n",
       "       'FAC_percentage', 'LAW_percentage', 'PRODUCT_percentage',\n",
       "       'EVENT_percentage', 'TIME_percentage', 'LOC_percentage',\n",
       "       'WORK_OF_ART_percentage', 'QUANTITY_percentage', 'LANGUAGE_percentage',\n",
       "       'Word count', 'Max word length', 'Min word length',\n",
       "       'Average word length', 'present_verbs', 'past_verbs', 'adjectives',\n",
       "       'adverbs', 'adpositions', 'pronouns', 'TOs', 'determiners',\n",
       "       'conjunctions', 'dots', 'exclamation', 'questions', 'ampersand',\n",
       "       'capitals', 'digits', 'long_word_freq', 'short_word_freq',\n",
       "       'Arousal_pred', 'Arousal_perc', 'Valence_pred', 'Valence_perc'],\n",
       "      dtype='object')"
      ]
     },
     "execution_count": 9,
     "metadata": {},
     "output_type": "execute_result"
    }
   ],
   "source": [
    "df.columns"
   ]
  },
  {
   "cell_type": "code",
   "execution_count": 8,
   "id": "93b22558-f0fd-4782-b9fd-b4242242642d",
   "metadata": {},
   "outputs": [],
   "source": [
    "def predict(text, model,tokenizer):\n",
    "    # Tokenisieren Sie den Eingabetext\n",
    "    inputs = tokenizer(text, return_tensors=\"pt\", truncation=True, padding=True, max_length=512)\n",
    "    \n",
    "    # Machen Sie eine Vorhersage\n",
    "    with torch.no_grad():\n",
    "        outputs = model(**inputs)\n",
    "    \n",
    "    # Holen Sie sich die Logits\n",
    "    logits = outputs.logits\n",
    "    \n",
    "    # Wenden Sie Softmax an, um Wahrscheinlichkeiten zu erhalten\n",
    "    probabilities = torch.nn.functional.softmax(logits, dim=-1)\n",
    "    \n",
    "    # Holen Sie sich die vorhergesagte Klasse\n",
    "    #predicted_class = torch.argmax(probabilities, dim=-1).item()\n",
    "    \n",
    "    return  probabilities[0].tolist()\n",
    "\n",
    "\n",
    "def evaluate(df):\n",
    "    total = len(df)\n",
    "    ls_arousal = []\n",
    "    ls_valence = []\n",
    "    ls_fake = []\n",
    "    required_columns = [ 'Fake_pred', 'Fake_perc']\n",
    "    for col in required_columns:\n",
    "        if col not in df.columns:\n",
    "            df[col] = None  \n",
    "    for index, row in tqdm(df.iterrows(), total=total, desc=\"Processing Rows\", unit=\"row\"):\n",
    "        predict_arousal, perc_arousal = predict(row['tweet'],model_arousal, tokenizer_Aurosal)\n",
    "        predict_valence, perc_valence = predict(row['tweet'],model_valence, tokenizer_Valence)\n",
    "        perc = predict(row['tweet'],model_evaluation, tokenizer_eomtion)\n",
    "        predict_fake_model, perc_fake_model = predict(row['tweet'],model_fake_model, tokenizer_Fake_Model)\n",
    "        predict_valence = valence_decode_vectorized(predict_valence)\n",
    "        predict_arousal = arousal_decode_vectorized(predict_arousal)\n",
    "        \n",
    "        df.at[index, 'emotion_model'] = perc\n",
    "        df.at[index, 'Arousal_perc'] = perc_arousal\n",
    "        df.at[index, 'Valence_pred'] = predict_valence\n",
    "        df.at[index, 'Valence_perc'] = perc_valence\n",
    "        df.at[index, 'Fake_pred'] = predict_fake_model\n",
    "        df.at[index, 'Fake_perc'] = perc_fake_model\n",
    "    return df"
   ]
  },
  {
   "cell_type": "code",
   "execution_count": 10,
   "id": "b7aa0ef7-1624-46a6-ad43-8ec1b270a8bc",
   "metadata": {},
   "outputs": [
    {
     "name": "stderr",
     "output_type": "stream",
     "text": [
      "Processing Rows: 100%|██████████| 21602/21602 [20:08<00:00, 17.87row/s]\n"
     ]
    }
   ],
   "source": [
    "df_labeld = evaluate(df)"
   ]
  },
  {
   "cell_type": "code",
   "execution_count": 11,
   "id": "b6d853bb-77da-43f6-b563-964f659ad057",
   "metadata": {},
   "outputs": [],
   "source": [
    "#df_labeld.to_csv(\"../Dataset/labeld_all.csv\")\n",
    "#df_labeld.to_csv(\"../Dataset/evaluation_annotated.csv\")"
   ]
  }
 ],
 "metadata": {
  "kernelspec": {
   "display_name": "Python 3 (ipykernel)",
   "language": "python",
   "name": "python3"
  },
  "language_info": {
   "codemirror_mode": {
    "name": "ipython",
    "version": 3
   },
   "file_extension": ".py",
   "mimetype": "text/x-python",
   "name": "python",
   "nbconvert_exporter": "python",
   "pygments_lexer": "ipython3",
   "version": "3.9.13"
  }
 },
 "nbformat": 4,
 "nbformat_minor": 5
}
