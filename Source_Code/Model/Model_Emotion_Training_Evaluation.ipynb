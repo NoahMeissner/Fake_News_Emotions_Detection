{
 "cells": [
  {
   "cell_type": "markdown",
   "id": "6cd0743e-195a-4940-ba66-daaefeaae2d3",
   "metadata": {},
   "source": [
    "### Model Emotions Detection Fake News"
   ]
  },
  {
   "cell_type": "code",
   "execution_count": 1,
   "id": "841832e5-a475-4811-b4d9-b4802672ed98",
   "metadata": {},
   "outputs": [],
   "source": [
    "#!pip install xgboost\n",
    "#!pip install pingouin"
   ]
  },
  {
   "cell_type": "code",
   "execution_count": 123,
   "id": "af161d7b-c37b-45db-b56b-e5198ccf7bf5",
   "metadata": {},
   "outputs": [],
   "source": [
    "import pandas as pd\n",
    "import ast\n",
    "from sklearn.model_selection import train_test_split\n",
    "import xgboost as xgb\n",
    "from sklearn.metrics import accuracy_score, classification_report\n",
    "from sklearn.model_selection import train_test_split, cross_val_score\n",
    "from xgboost import XGBClassifier\n",
    "import matplotlib.pyplot as plt\n",
    "from scipy.stats import f_oneway\n",
    "import pingouin as pg\n",
    "from sklearn.model_selection import cross_validate\n",
    "from sklearn.metrics import make_scorer, accuracy_score, precision_score, recall_score, f1_score\n",
    "from xgboost import XGBClassifier\n",
    "import numpy as np"
   ]
  },
  {
   "cell_type": "code",
   "execution_count": 124,
   "id": "f981709b-ffa8-4ef6-95bf-05eea522a63d",
   "metadata": {},
   "outputs": [],
   "source": [
    "df_train = pd.read_csv('../Dataset/labeld_all.csv')"
   ]
  },
  {
   "cell_type": "code",
   "execution_count": 128,
   "id": "60079c5a-3bec-42bf-90b3-dbcc5f0aa6e4",
   "metadata": {},
   "outputs": [],
   "source": [
    "df_train['fake'] = df_train['BinaryNumTarget']"
   ]
  },
  {
   "cell_type": "code",
   "execution_count": 129,
   "id": "bce5153b-732c-4f57-998e-88dfa3b0b505",
   "metadata": {},
   "outputs": [
    {
     "data": {
      "text/html": [
       "<div>\n",
       "<style scoped>\n",
       "    .dataframe tbody tr th:only-of-type {\n",
       "        vertical-align: middle;\n",
       "    }\n",
       "\n",
       "    .dataframe tbody tr th {\n",
       "        vertical-align: top;\n",
       "    }\n",
       "\n",
       "    .dataframe thead th {\n",
       "        text-align: right;\n",
       "    }\n",
       "</style>\n",
       "<table border=\"1\" class=\"dataframe\">\n",
       "  <thead>\n",
       "    <tr style=\"text-align: right;\">\n",
       "      <th></th>\n",
       "      <th>Unnamed: 0.1</th>\n",
       "      <th>Unnamed: 0</th>\n",
       "      <th>id</th>\n",
       "      <th>majority_target</th>\n",
       "      <th>statement</th>\n",
       "      <th>BinaryNumTarget</th>\n",
       "      <th>tweet</th>\n",
       "      <th>followers_count</th>\n",
       "      <th>friends_count</th>\n",
       "      <th>favourites_count</th>\n",
       "      <th>...</th>\n",
       "      <th>ampersand</th>\n",
       "      <th>capitals</th>\n",
       "      <th>digits</th>\n",
       "      <th>long_word_freq</th>\n",
       "      <th>short_word_freq</th>\n",
       "      <th>Arousal_pred</th>\n",
       "      <th>Arousal_perc</th>\n",
       "      <th>Valence_pred</th>\n",
       "      <th>Valence_perc</th>\n",
       "      <th>fake</th>\n",
       "    </tr>\n",
       "  </thead>\n",
       "  <tbody>\n",
       "    <tr>\n",
       "      <th>0</th>\n",
       "      <td>0</td>\n",
       "      <td>0.0</td>\n",
       "      <td>132520</td>\n",
       "      <td>False</td>\n",
       "      <td>Since Trump labeled ANTIFA a terrorist organiz...</td>\n",
       "      <td>0.0</td>\n",
       "      <td>@tl_trevaskis @Bpage5 @CheriJacobus Which is e...</td>\n",
       "      <td>117.0</td>\n",
       "      <td>443.0</td>\n",
       "      <td>4406.0</td>\n",
       "      <td>...</td>\n",
       "      <td>0</td>\n",
       "      <td>4</td>\n",
       "      <td>0</td>\n",
       "      <td>3</td>\n",
       "      <td>13</td>\n",
       "      <td>0</td>\n",
       "      <td>[0.8921529054641724, 0.07831133157014847, 0.02...</td>\n",
       "      <td>2</td>\n",
       "      <td>[0.03164537623524666, 0.031106766313314438, 0....</td>\n",
       "      <td>0.0</td>\n",
       "    </tr>\n",
       "    <tr>\n",
       "      <th>1</th>\n",
       "      <td>1</td>\n",
       "      <td>1.0</td>\n",
       "      <td>16909</td>\n",
       "      <td>True</td>\n",
       "      <td>Says the Trump administration transferred $10 ...</td>\n",
       "      <td>1.0</td>\n",
       "      <td>@realDonaldTrump Sen. Jeff Merkley released a ...</td>\n",
       "      <td>605.0</td>\n",
       "      <td>1077.0</td>\n",
       "      <td>15227.0</td>\n",
       "      <td>...</td>\n",
       "      <td>0</td>\n",
       "      <td>5</td>\n",
       "      <td>6</td>\n",
       "      <td>1</td>\n",
       "      <td>6</td>\n",
       "      <td>0</td>\n",
       "      <td>[0.9320166110992432, 0.03751523420214653, 0.03...</td>\n",
       "      <td>2</td>\n",
       "      <td>[0.030032258480787277, 0.030275417491793633, 0...</td>\n",
       "      <td>1.0</td>\n",
       "    </tr>\n",
       "    <tr>\n",
       "      <th>2</th>\n",
       "      <td>2</td>\n",
       "      <td>2.0</td>\n",
       "      <td>67861</td>\n",
       "      <td>True</td>\n",
       "      <td>The Keystone pipeline creates \"35 permanent jo...</td>\n",
       "      <td>1.0</td>\n",
       "      <td>@movieguy82 @PaulCogan @lisalocicerogh Trump t...</td>\n",
       "      <td>9233.0</td>\n",
       "      <td>1379.0</td>\n",
       "      <td>28919.0</td>\n",
       "      <td>...</td>\n",
       "      <td>0</td>\n",
       "      <td>10</td>\n",
       "      <td>0</td>\n",
       "      <td>2</td>\n",
       "      <td>12</td>\n",
       "      <td>1</td>\n",
       "      <td>[0.054461825639009476, 0.8415970206260681, 0.1...</td>\n",
       "      <td>2</td>\n",
       "      <td>[0.02977902628481388, 0.031082626432180405, 0....</td>\n",
       "      <td>1.0</td>\n",
       "    </tr>\n",
       "    <tr>\n",
       "      <th>3</th>\n",
       "      <td>3</td>\n",
       "      <td>3.0</td>\n",
       "      <td>22168</td>\n",
       "      <td>True</td>\n",
       "      <td>\"Afghanistan has more hectares (of opium poppi...</td>\n",
       "      <td>1.0</td>\n",
       "      <td>@pleasexplainMrI @MingGao26 When US and Britis...</td>\n",
       "      <td>5429.0</td>\n",
       "      <td>5803.0</td>\n",
       "      <td>120316.0</td>\n",
       "      <td>...</td>\n",
       "      <td>0</td>\n",
       "      <td>15</td>\n",
       "      <td>19</td>\n",
       "      <td>3</td>\n",
       "      <td>31</td>\n",
       "      <td>2</td>\n",
       "      <td>[0.10533934831619263, 0.3858444392681122, 0.50...</td>\n",
       "      <td>2</td>\n",
       "      <td>[0.033325646072626114, 0.2485164999961853, 0.7...</td>\n",
       "      <td>1.0</td>\n",
       "    </tr>\n",
       "    <tr>\n",
       "      <th>4</th>\n",
       "      <td>4</td>\n",
       "      <td>4.0</td>\n",
       "      <td>124830</td>\n",
       "      <td>False</td>\n",
       "      <td>Says President Barack Obama spied on my campai...</td>\n",
       "      <td>0.0</td>\n",
       "      <td>So Obama along with his team of lowlifes spied...</td>\n",
       "      <td>7.0</td>\n",
       "      <td>0.0</td>\n",
       "      <td>0.0</td>\n",
       "      <td>...</td>\n",
       "      <td>0</td>\n",
       "      <td>10</td>\n",
       "      <td>3</td>\n",
       "      <td>3</td>\n",
       "      <td>19</td>\n",
       "      <td>0</td>\n",
       "      <td>[0.9383224248886108, 0.030329681932926178, 0.0...</td>\n",
       "      <td>2</td>\n",
       "      <td>[0.029549088329076767, 0.029803887009620667, 0...</td>\n",
       "      <td>0.0</td>\n",
       "    </tr>\n",
       "  </tbody>\n",
       "</table>\n",
       "<p>5 rows × 71 columns</p>\n",
       "</div>"
      ],
      "text/plain": [
       "   Unnamed: 0.1  Unnamed: 0      id  majority_target  \\\n",
       "0             0         0.0  132520            False   \n",
       "1             1         1.0   16909             True   \n",
       "2             2         2.0   67861             True   \n",
       "3             3         3.0   22168             True   \n",
       "4             4         4.0  124830            False   \n",
       "\n",
       "                                           statement  BinaryNumTarget  \\\n",
       "0  Since Trump labeled ANTIFA a terrorist organiz...              0.0   \n",
       "1  Says the Trump administration transferred $10 ...              1.0   \n",
       "2  The Keystone pipeline creates \"35 permanent jo...              1.0   \n",
       "3  \"Afghanistan has more hectares (of opium poppi...              1.0   \n",
       "4  Says President Barack Obama spied on my campai...              0.0   \n",
       "\n",
       "                                               tweet  followers_count  \\\n",
       "0  @tl_trevaskis @Bpage5 @CheriJacobus Which is e...            117.0   \n",
       "1  @realDonaldTrump Sen. Jeff Merkley released a ...            605.0   \n",
       "2  @movieguy82 @PaulCogan @lisalocicerogh Trump t...           9233.0   \n",
       "3  @pleasexplainMrI @MingGao26 When US and Britis...           5429.0   \n",
       "4  So Obama along with his team of lowlifes spied...              7.0   \n",
       "\n",
       "   friends_count  favourites_count  ...  ampersand  capitals  digits  \\\n",
       "0          443.0            4406.0  ...          0         4       0   \n",
       "1         1077.0           15227.0  ...          0         5       6   \n",
       "2         1379.0           28919.0  ...          0        10       0   \n",
       "3         5803.0          120316.0  ...          0        15      19   \n",
       "4            0.0               0.0  ...          0        10       3   \n",
       "\n",
       "  long_word_freq  short_word_freq  Arousal_pred  \\\n",
       "0              3               13             0   \n",
       "1              1                6             0   \n",
       "2              2               12             1   \n",
       "3              3               31             2   \n",
       "4              3               19             0   \n",
       "\n",
       "                                        Arousal_perc  Valence_pred  \\\n",
       "0  [0.8921529054641724, 0.07831133157014847, 0.02...             2   \n",
       "1  [0.9320166110992432, 0.03751523420214653, 0.03...             2   \n",
       "2  [0.054461825639009476, 0.8415970206260681, 0.1...             2   \n",
       "3  [0.10533934831619263, 0.3858444392681122, 0.50...             2   \n",
       "4  [0.9383224248886108, 0.030329681932926178, 0.0...             2   \n",
       "\n",
       "                                        Valence_perc  fake  \n",
       "0  [0.03164537623524666, 0.031106766313314438, 0....   0.0  \n",
       "1  [0.030032258480787277, 0.030275417491793633, 0...   1.0  \n",
       "2  [0.02977902628481388, 0.031082626432180405, 0....   1.0  \n",
       "3  [0.033325646072626114, 0.2485164999961853, 0.7...   1.0  \n",
       "4  [0.029549088329076767, 0.029803887009620667, 0...   0.0  \n",
       "\n",
       "[5 rows x 71 columns]"
      ]
     },
     "execution_count": 129,
     "metadata": {},
     "output_type": "execute_result"
    }
   ],
   "source": [
    "df_train.head()"
   ]
  },
  {
   "cell_type": "code",
   "execution_count": 143,
   "id": "b40d2905-4de6-4407-97c7-ac347a725233",
   "metadata": {},
   "outputs": [],
   "source": [
    "def extract_fake_perc(x):\n",
    "    try:\n",
    "        # Versuche, den String in eine Python-Datenstruktur umzuwandeln\n",
    "        parsed_x = ast.literal_eval(x)\n",
    "        \n",
    "        # Überprüfe, ob das Ergebnis eine Liste mit genau zwei Elementen ist\n",
    "        if isinstance(parsed_x, list) and len(parsed_x) == 3:\n",
    "            return parsed_x[0], parsed_x[1], parsed_x[2],\n",
    "        else:\n",
    "            return float('nan'), float('nan'), float('nan')\n",
    "    except (ValueError, SyntaxError, TypeError):\n",
    "        # Wenn die Umwandlung fehlschlägt oder der Inhalt ungültig ist\n",
    "        print('ERROR')\n",
    "        return float('nan'), float('nan'), float('nan')\n",
    "\n",
    "\n",
    "    \n",
    "df_train[['high', 'medium', 'low']] = df_train['Arousal_perc'].apply(extract_fake_perc).apply(pd.Series)\n",
    "df_train[['positive', 'neutral', 'negative']] = df_train['Valence_perc'].apply(extract_fake_perc).apply(pd.Series)\n"
   ]
  },
  {
   "cell_type": "markdown",
   "id": "aea701e8-898a-4e77-bbdd-e562007f719e",
   "metadata": {},
   "source": [
    "### Model 1"
   ]
  },
  {
   "cell_type": "markdown",
   "id": "29ee2b44-301e-44bf-86d4-f2bcc2cafdb6",
   "metadata": {},
   "source": [
    "#### Emotions"
   ]
  },
  {
   "cell_type": "code",
   "execution_count": 144,
   "id": "e61a1815-64fa-4887-b700-26433b5e8baf",
   "metadata": {},
   "outputs": [],
   "source": [
    "X_one = df_train[['high', 'medium', 'low', 'positive', 'neutral', 'negative']]\n",
    "y_one = df_train['fake']\n",
    "X_train_one, X_test_one, y_train_one, y_test_one = train_test_split(X_one, y_one, test_size=0.2, random_state=42)"
   ]
  },
  {
   "cell_type": "code",
   "execution_count": 145,
   "id": "1b4e764f-0ca3-4725-9261-0534c968cb3b",
   "metadata": {},
   "outputs": [],
   "source": [
    "xgb_model_one = XGBClassifier(objective='binary:logistic', max_depth=3, learning_rate=0.1, n_estimators=100)"
   ]
  },
  {
   "cell_type": "code",
   "execution_count": 146,
   "id": "b4111394-caa3-4655-9cad-f684ff8f3035",
   "metadata": {},
   "outputs": [],
   "source": [
    "scoring = ['accuracy', 'precision', 'recall', 'f1']"
   ]
  },
  {
   "cell_type": "code",
   "execution_count": 147,
   "id": "3a61c35d-9b6e-4f89-b569-51824928cbee",
   "metadata": {},
   "outputs": [],
   "source": [
    "cv_results = cross_validate(xgb_model_one, X_one, y_one, cv=5, scoring=scoring)"
   ]
  },
  {
   "cell_type": "code",
   "execution_count": 148,
   "id": "afcde936-1d9f-4811-8633-350c2630aee3",
   "metadata": {},
   "outputs": [
    {
     "name": "stdout",
     "output_type": "stream",
     "text": [
      "\n",
      "Fold 1:\n",
      "{'accuracy': '0.6186', 'precision': '0.6214', 'recall': '0.6657', 'f1': '0.6428'}\n",
      "\n",
      "Fold 2:\n",
      "{'accuracy': '0.6146', 'precision': '0.6251', 'recall': '0.6308', 'f1': '0.6279'}\n",
      "\n",
      "Fold 3:\n",
      "{'accuracy': '0.6215', 'precision': '0.6274', 'recall': '0.6545', 'f1': '0.6406'}\n",
      "\n",
      "Fold 4:\n",
      "{'accuracy': '0.6071', 'precision': '0.6168', 'recall': '0.6279', 'f1': '0.6223'}\n",
      "\n",
      "Fold 5:\n",
      "{'accuracy': '0.6075', 'precision': '0.6165', 'recall': '0.6317', 'f1': '0.6240'}\n"
     ]
    }
   ],
   "source": [
    "for fold in range(5):\n",
    "    print(f\"\\nFold {fold + 1}:\")\n",
    "    five_fold_basic = {\n",
    "        'accuracy': f\"{cv_results['test_accuracy'][fold]:.4f}\",\n",
    "        'precision': f\"{cv_results['test_precision'][fold]:.4f}\",\n",
    "        'recall': f\"{cv_results['test_recall'][fold]:.4f}\",\n",
    "        'f1': f\"{cv_results['test_f1'][fold]:.4f}\"\n",
    "    }\n",
    "    print(five_fold_basic)"
   ]
  },
  {
   "cell_type": "code",
   "execution_count": 149,
   "id": "4cc39e6f-5a52-4722-96bc-50075c61392c",
   "metadata": {},
   "outputs": [
    {
     "name": "stdout",
     "output_type": "stream",
     "text": [
      "\n",
      "Average scores across all folds:\n",
      "Accuracy: 0.6138 (+/- 0.0058)\n",
      "Precision: 0.6214 (+/- 0.0044)\n",
      "Recall: 0.6421 (+/- 0.0152)\n",
      "F1 Score: 0.6315 (+/- 0.0085)\n"
     ]
    }
   ],
   "source": [
    "print(\"\\nAverage scores across all folds:\")\n",
    "print(f\"Accuracy: {np.mean(cv_results['test_accuracy']):.4f} (+/- {np.std(cv_results['test_accuracy']):.4f})\")\n",
    "print(f\"Precision: {np.mean(cv_results['test_precision']):.4f} (+/- {np.std(cv_results['test_precision']):.4f})\")\n",
    "print(f\"Recall: {np.mean(cv_results['test_recall']):.4f} (+/- {np.std(cv_results['test_recall']):.4f})\")\n",
    "print(f\"F1 Score: {np.mean(cv_results['test_f1']):.4f} (+/- {np.std(cv_results['test_f1']):.4f})\")"
   ]
  },
  {
   "cell_type": "code",
   "execution_count": 150,
   "id": "03ae490f-8296-4fc3-af8b-859911ad6523",
   "metadata": {},
   "outputs": [
    {
     "data": {
      "text/html": [
       "<style>#sk-container-id-8 {color: black;background-color: white;}#sk-container-id-8 pre{padding: 0;}#sk-container-id-8 div.sk-toggleable {background-color: white;}#sk-container-id-8 label.sk-toggleable__label {cursor: pointer;display: block;width: 100%;margin-bottom: 0;padding: 0.3em;box-sizing: border-box;text-align: center;}#sk-container-id-8 label.sk-toggleable__label-arrow:before {content: \"▸\";float: left;margin-right: 0.25em;color: #696969;}#sk-container-id-8 label.sk-toggleable__label-arrow:hover:before {color: black;}#sk-container-id-8 div.sk-estimator:hover label.sk-toggleable__label-arrow:before {color: black;}#sk-container-id-8 div.sk-toggleable__content {max-height: 0;max-width: 0;overflow: hidden;text-align: left;background-color: #f0f8ff;}#sk-container-id-8 div.sk-toggleable__content pre {margin: 0.2em;color: black;border-radius: 0.25em;background-color: #f0f8ff;}#sk-container-id-8 input.sk-toggleable__control:checked~div.sk-toggleable__content {max-height: 200px;max-width: 100%;overflow: auto;}#sk-container-id-8 input.sk-toggleable__control:checked~label.sk-toggleable__label-arrow:before {content: \"▾\";}#sk-container-id-8 div.sk-estimator input.sk-toggleable__control:checked~label.sk-toggleable__label {background-color: #d4ebff;}#sk-container-id-8 div.sk-label input.sk-toggleable__control:checked~label.sk-toggleable__label {background-color: #d4ebff;}#sk-container-id-8 input.sk-hidden--visually {border: 0;clip: rect(1px 1px 1px 1px);clip: rect(1px, 1px, 1px, 1px);height: 1px;margin: -1px;overflow: hidden;padding: 0;position: absolute;width: 1px;}#sk-container-id-8 div.sk-estimator {font-family: monospace;background-color: #f0f8ff;border: 1px dotted black;border-radius: 0.25em;box-sizing: border-box;margin-bottom: 0.5em;}#sk-container-id-8 div.sk-estimator:hover {background-color: #d4ebff;}#sk-container-id-8 div.sk-parallel-item::after {content: \"\";width: 100%;border-bottom: 1px solid gray;flex-grow: 1;}#sk-container-id-8 div.sk-label:hover label.sk-toggleable__label {background-color: #d4ebff;}#sk-container-id-8 div.sk-serial::before {content: \"\";position: absolute;border-left: 1px solid gray;box-sizing: border-box;top: 0;bottom: 0;left: 50%;z-index: 0;}#sk-container-id-8 div.sk-serial {display: flex;flex-direction: column;align-items: center;background-color: white;padding-right: 0.2em;padding-left: 0.2em;position: relative;}#sk-container-id-8 div.sk-item {position: relative;z-index: 1;}#sk-container-id-8 div.sk-parallel {display: flex;align-items: stretch;justify-content: center;background-color: white;position: relative;}#sk-container-id-8 div.sk-item::before, #sk-container-id-8 div.sk-parallel-item::before {content: \"\";position: absolute;border-left: 1px solid gray;box-sizing: border-box;top: 0;bottom: 0;left: 50%;z-index: -1;}#sk-container-id-8 div.sk-parallel-item {display: flex;flex-direction: column;z-index: 1;position: relative;background-color: white;}#sk-container-id-8 div.sk-parallel-item:first-child::after {align-self: flex-end;width: 50%;}#sk-container-id-8 div.sk-parallel-item:last-child::after {align-self: flex-start;width: 50%;}#sk-container-id-8 div.sk-parallel-item:only-child::after {width: 0;}#sk-container-id-8 div.sk-dashed-wrapped {border: 1px dashed gray;margin: 0 0.4em 0.5em 0.4em;box-sizing: border-box;padding-bottom: 0.4em;background-color: white;}#sk-container-id-8 div.sk-label label {font-family: monospace;font-weight: bold;display: inline-block;line-height: 1.2em;}#sk-container-id-8 div.sk-label-container {text-align: center;}#sk-container-id-8 div.sk-container {/* jupyter's `normalize.less` sets `[hidden] { display: none; }` but bootstrap.min.css set `[hidden] { display: none !important; }` so we also need the `!important` here to be able to override the default hidden behavior on the sphinx rendered scikit-learn.org. See: https://github.com/scikit-learn/scikit-learn/issues/21755 */display: inline-block !important;position: relative;}#sk-container-id-8 div.sk-text-repr-fallback {display: none;}</style><div id=\"sk-container-id-8\" class=\"sk-top-container\"><div class=\"sk-text-repr-fallback\"><pre>XGBClassifier(base_score=None, booster=None, callbacks=None,\n",
       "              colsample_bylevel=None, colsample_bynode=None,\n",
       "              colsample_bytree=None, device=None, early_stopping_rounds=None,\n",
       "              enable_categorical=False, eval_metric=None, feature_types=None,\n",
       "              gamma=None, grow_policy=None, importance_type=None,\n",
       "              interaction_constraints=None, learning_rate=0.1, max_bin=None,\n",
       "              max_cat_threshold=None, max_cat_to_onehot=None,\n",
       "              max_delta_step=None, max_depth=3, max_leaves=None,\n",
       "              min_child_weight=None, missing=nan, monotone_constraints=None,\n",
       "              multi_strategy=None, n_estimators=100, n_jobs=None,\n",
       "              num_parallel_tree=None, random_state=None, ...)</pre><b>In a Jupyter environment, please rerun this cell to show the HTML representation or trust the notebook. <br />On GitHub, the HTML representation is unable to render, please try loading this page with nbviewer.org.</b></div><div class=\"sk-container\" hidden><div class=\"sk-item\"><div class=\"sk-estimator sk-toggleable\"><input class=\"sk-toggleable__control sk-hidden--visually\" id=\"sk-estimator-id-8\" type=\"checkbox\" checked><label for=\"sk-estimator-id-8\" class=\"sk-toggleable__label sk-toggleable__label-arrow\">XGBClassifier</label><div class=\"sk-toggleable__content\"><pre>XGBClassifier(base_score=None, booster=None, callbacks=None,\n",
       "              colsample_bylevel=None, colsample_bynode=None,\n",
       "              colsample_bytree=None, device=None, early_stopping_rounds=None,\n",
       "              enable_categorical=False, eval_metric=None, feature_types=None,\n",
       "              gamma=None, grow_policy=None, importance_type=None,\n",
       "              interaction_constraints=None, learning_rate=0.1, max_bin=None,\n",
       "              max_cat_threshold=None, max_cat_to_onehot=None,\n",
       "              max_delta_step=None, max_depth=3, max_leaves=None,\n",
       "              min_child_weight=None, missing=nan, monotone_constraints=None,\n",
       "              multi_strategy=None, n_estimators=100, n_jobs=None,\n",
       "              num_parallel_tree=None, random_state=None, ...)</pre></div></div></div></div></div>"
      ],
      "text/plain": [
       "XGBClassifier(base_score=None, booster=None, callbacks=None,\n",
       "              colsample_bylevel=None, colsample_bynode=None,\n",
       "              colsample_bytree=None, device=None, early_stopping_rounds=None,\n",
       "              enable_categorical=False, eval_metric=None, feature_types=None,\n",
       "              gamma=None, grow_policy=None, importance_type=None,\n",
       "              interaction_constraints=None, learning_rate=0.1, max_bin=None,\n",
       "              max_cat_threshold=None, max_cat_to_onehot=None,\n",
       "              max_delta_step=None, max_depth=3, max_leaves=None,\n",
       "              min_child_weight=None, missing=nan, monotone_constraints=None,\n",
       "              multi_strategy=None, n_estimators=100, n_jobs=None,\n",
       "              num_parallel_tree=None, random_state=None, ...)"
      ]
     },
     "execution_count": 150,
     "metadata": {},
     "output_type": "execute_result"
    }
   ],
   "source": [
    "xgb_model_one.fit(X_one, y_one)"
   ]
  },
  {
   "cell_type": "code",
   "execution_count": 151,
   "id": "2ed47b8f-58c8-4c6d-afe1-0ade467f8a38",
   "metadata": {},
   "outputs": [
    {
     "name": "stdout",
     "output_type": "stream",
     "text": [
      "\n",
      "Final Test Set Metrics:\n",
      "Accuracy: 0.6176\n",
      "Precision: 0.6248\n",
      "Recall: 0.6423\n",
      "F1 Score: 0.6334\n"
     ]
    }
   ],
   "source": [
    "y_pred = xgb_model_one.predict(X_test_one)\n",
    "\n",
    "# Print final test set metrics\n",
    "print(\"\\nFinal Test Set Metrics:\")\n",
    "print(f\"Accuracy: {accuracy_score(y_test_one, y_pred):.4f}\")\n",
    "print(f\"Precision: {precision_score(y_test_one, y_pred):.4f}\")\n",
    "print(f\"Recall: {recall_score(y_test_one, y_pred):.4f}\")\n",
    "print(f\"F1 Score: {f1_score(y_test_one, y_pred):.4f}\")"
   ]
  },
  {
   "cell_type": "markdown",
   "id": "7ad2f130-9e1a-49c8-a27b-9cb54f07a70a",
   "metadata": {},
   "source": [
    "### Model 2"
   ]
  },
  {
   "cell_type": "markdown",
   "id": "e13470a9-7c61-4c06-933e-f26794e08361",
   "metadata": {},
   "source": [
    "#### long sequences + Emotions"
   ]
  },
  {
   "cell_type": "code",
   "execution_count": 152,
   "id": "06c96b75-8075-40ed-beb4-0a8d75b331b8",
   "metadata": {},
   "outputs": [
    {
     "data": {
      "image/png": "[encoded data removed]",
      "text/plain": [
       "<Figure size 1000x600 with 1 Axes>"
      ]
     },
     "metadata": {},
     "output_type": "display_data"
    }
   ],
   "source": [
    "df_train['tweet_length'] = df_train['tweet'].str.len()\n",
    "boxplot = df_train['tweet_length'].plot.box(figsize=(10, 6))"
   ]
  },
  {
   "cell_type": "code",
   "execution_count": 153,
   "id": "89a4850e-7486-4da4-88bd-115b7b53480d",
   "metadata": {},
   "outputs": [
    {
     "data": {
      "text/plain": [
       "count    41602.000000\n",
       "mean       215.954233\n",
       "std         89.964725\n",
       "min         16.000000\n",
       "25%        139.000000\n",
       "50%        228.000000\n",
       "75%        281.000000\n",
       "max        985.000000\n",
       "Name: tweet_length, dtype: float64"
      ]
     },
     "execution_count": 153,
     "metadata": {},
     "output_type": "execute_result"
    }
   ],
   "source": [
    "df_train['tweet_length'].describe()"
   ]
  },
  {
   "cell_type": "code",
   "execution_count": 154,
   "id": "a8f3b50d-756e-49e2-bc2c-d27f9bb3cdf8",
   "metadata": {},
   "outputs": [],
   "source": [
    "df_train_short = df_train[df_train['tweet_length']>139]"
   ]
  },
  {
   "cell_type": "code",
   "execution_count": 155,
   "id": "1c1d0e98-0775-47b1-b689-b0db95dcadad",
   "metadata": {},
   "outputs": [
    {
     "data": {
      "text/plain": [
       "31143"
      ]
     },
     "execution_count": 155,
     "metadata": {},
     "output_type": "execute_result"
    }
   ],
   "source": [
    "len(df_train_short)"
   ]
  },
  {
   "cell_type": "code",
   "execution_count": 156,
   "id": "cee3d1ce-2805-4d88-9dcf-4cb23bd7c939",
   "metadata": {},
   "outputs": [],
   "source": [
    "X_two = df_train_short[['high', 'medium', 'low', 'positive', 'neutral', 'negative']]\n",
    "y_two = df_train_short['fake']\n",
    "X_train_two, X_test_two, y_train_two, y_test_two = train_test_split(X_two, y_two, test_size=0.2, random_state=42)"
   ]
  },
  {
   "cell_type": "code",
   "execution_count": 157,
   "id": "0569f26c-7be6-4931-8c82-ec391b7c22b5",
   "metadata": {},
   "outputs": [],
   "source": [
    "xgb_model_two = XGBClassifier(objective='binary:logistic', max_depth=3, learning_rate=0.1, n_estimators=100)"
   ]
  },
  {
   "cell_type": "code",
   "execution_count": 158,
   "id": "75f62a3c-3e59-4ec5-b7bf-dd93db548f1f",
   "metadata": {},
   "outputs": [],
   "source": [
    "scoring = ['accuracy', 'precision', 'recall', 'f1']"
   ]
  },
  {
   "cell_type": "code",
   "execution_count": 159,
   "id": "027cedb8-daca-426c-bb23-c959e411760d",
   "metadata": {},
   "outputs": [],
   "source": [
    "cv_results = cross_validate(xgb_model_two, X_two, y_two, cv=5, scoring=scoring)"
   ]
  },
  {
   "cell_type": "code",
   "execution_count": 167,
   "id": "ad2e4a91-2eef-444e-bb4c-58de87f9411e",
   "metadata": {},
   "outputs": [
    {
     "name": "stdout",
     "output_type": "stream",
     "text": [
      "\n",
      "Fold 1:\n",
      "{'accuracy': '0.6123', 'precision': '0.6036', 'recall': '0.5626', 'f1': '0.5824'}\n",
      "\n",
      "Fold 2:\n",
      "{'accuracy': '0.6128', 'precision': '0.6117', 'recall': '0.5316', 'f1': '0.5688'}\n",
      "\n",
      "Fold 3:\n",
      "{'accuracy': '0.6117', 'precision': '0.6032', 'recall': '0.5606', 'f1': '0.5811'}\n",
      "\n",
      "Fold 4:\n",
      "{'accuracy': '0.5999', 'precision': '0.5993', 'recall': '0.5043', 'f1': '0.5477'}\n",
      "\n",
      "Fold 5:\n",
      "{'accuracy': '0.6093', 'precision': '0.6027', 'recall': '0.5481', 'f1': '0.5741'}\n"
     ]
    }
   ],
   "source": [
    "for fold in range(5):\n",
    "    print(f\"\\nFold {fold + 1}:\")\n",
    "    five_fold_basic = {\n",
    "        'accuracy': f\"{cv_results['test_accuracy'][fold]:.4f}\",\n",
    "        'precision': f\"{cv_results['test_precision'][fold]:.4f}\",\n",
    "        'recall': f\"{cv_results['test_recall'][fold]:.4f}\",\n",
    "        'f1': f\"{cv_results['test_f1'][fold]:.4f}\"\n",
    "    }\n",
    "    print(five_fold_basic)"
   ]
  },
  {
   "cell_type": "code",
   "execution_count": 168,
   "id": "46069b08-e51a-4708-b786-418394cea4fa",
   "metadata": {},
   "outputs": [
    {
     "name": "stdout",
     "output_type": "stream",
     "text": [
      "\n",
      "Average scores across all folds:\n",
      "Accuracy: 0.6092 (+/- 0.0048)\n",
      "Precision: 0.6041 (+/- 0.0041)\n",
      "Recall: 0.5415 (+/- 0.0216)\n",
      "F1 Score: 0.5708 (+/- 0.0126)\n"
     ]
    }
   ],
   "source": [
    "print(\"\\nAverage scores across all folds:\")\n",
    "print(f\"Accuracy: {np.mean(cv_results['test_accuracy']):.4f} (+/- {np.std(cv_results['test_accuracy']):.4f})\")\n",
    "print(f\"Precision: {np.mean(cv_results['test_precision']):.4f} (+/- {np.std(cv_results['test_precision']):.4f})\")\n",
    "print(f\"Recall: {np.mean(cv_results['test_recall']):.4f} (+/- {np.std(cv_results['test_recall']):.4f})\")\n",
    "print(f\"F1 Score: {np.mean(cv_results['test_f1']):.4f} (+/- {np.std(cv_results['test_f1']):.4f})\")"
   ]
  },
  {
   "cell_type": "code",
   "execution_count": 169,
   "id": "8d9ec341-aeeb-4ce4-9352-d90e4cfc3ea5",
   "metadata": {},
   "outputs": [
    {
     "data": {
      "text/html": [
       "<style>#sk-container-id-9 {color: black;background-color: white;}#sk-container-id-9 pre{padding: 0;}#sk-container-id-9 div.sk-toggleable {background-color: white;}#sk-container-id-9 label.sk-toggleable__label {cursor: pointer;display: block;width: 100%;margin-bottom: 0;padding: 0.3em;box-sizing: border-box;text-align: center;}#sk-container-id-9 label.sk-toggleable__label-arrow:before {content: \"▸\";float: left;margin-right: 0.25em;color: #696969;}#sk-container-id-9 label.sk-toggleable__label-arrow:hover:before {color: black;}#sk-container-id-9 div.sk-estimator:hover label.sk-toggleable__label-arrow:before {color: black;}#sk-container-id-9 div.sk-toggleable__content {max-height: 0;max-width: 0;overflow: hidden;text-align: left;background-color: #f0f8ff;}#sk-container-id-9 div.sk-toggleable__content pre {margin: 0.2em;color: black;border-radius: 0.25em;background-color: #f0f8ff;}#sk-container-id-9 input.sk-toggleable__control:checked~div.sk-toggleable__content {max-height: 200px;max-width: 100%;overflow: auto;}#sk-container-id-9 input.sk-toggleable__control:checked~label.sk-toggleable__label-arrow:before {content: \"▾\";}#sk-container-id-9 div.sk-estimator input.sk-toggleable__control:checked~label.sk-toggleable__label {background-color: #d4ebff;}#sk-container-id-9 div.sk-label input.sk-toggleable__control:checked~label.sk-toggleable__label {background-color: #d4ebff;}#sk-container-id-9 input.sk-hidden--visually {border: 0;clip: rect(1px 1px 1px 1px);clip: rect(1px, 1px, 1px, 1px);height: 1px;margin: -1px;overflow: hidden;padding: 0;position: absolute;width: 1px;}#sk-container-id-9 div.sk-estimator {font-family: monospace;background-color: #f0f8ff;border: 1px dotted black;border-radius: 0.25em;box-sizing: border-box;margin-bottom: 0.5em;}#sk-container-id-9 div.sk-estimator:hover {background-color: #d4ebff;}#sk-container-id-9 div.sk-parallel-item::after {content: \"\";width: 100%;border-bottom: 1px solid gray;flex-grow: 1;}#sk-container-id-9 div.sk-label:hover label.sk-toggleable__label {background-color: #d4ebff;}#sk-container-id-9 div.sk-serial::before {content: \"\";position: absolute;border-left: 1px solid gray;box-sizing: border-box;top: 0;bottom: 0;left: 50%;z-index: 0;}#sk-container-id-9 div.sk-serial {display: flex;flex-direction: column;align-items: center;background-color: white;padding-right: 0.2em;padding-left: 0.2em;position: relative;}#sk-container-id-9 div.sk-item {position: relative;z-index: 1;}#sk-container-id-9 div.sk-parallel {display: flex;align-items: stretch;justify-content: center;background-color: white;position: relative;}#sk-container-id-9 div.sk-item::before, #sk-container-id-9 div.sk-parallel-item::before {content: \"\";position: absolute;border-left: 1px solid gray;box-sizing: border-box;top: 0;bottom: 0;left: 50%;z-index: -1;}#sk-container-id-9 div.sk-parallel-item {display: flex;flex-direction: column;z-index: 1;position: relative;background-color: white;}#sk-container-id-9 div.sk-parallel-item:first-child::after {align-self: flex-end;width: 50%;}#sk-container-id-9 div.sk-parallel-item:last-child::after {align-self: flex-start;width: 50%;}#sk-container-id-9 div.sk-parallel-item:only-child::after {width: 0;}#sk-container-id-9 div.sk-dashed-wrapped {border: 1px dashed gray;margin: 0 0.4em 0.5em 0.4em;box-sizing: border-box;padding-bottom: 0.4em;background-color: white;}#sk-container-id-9 div.sk-label label {font-family: monospace;font-weight: bold;display: inline-block;line-height: 1.2em;}#sk-container-id-9 div.sk-label-container {text-align: center;}#sk-container-id-9 div.sk-container {/* jupyter's `normalize.less` sets `[hidden] { display: none; }` but bootstrap.min.css set `[hidden] { display: none !important; }` so we also need the `!important` here to be able to override the default hidden behavior on the sphinx rendered scikit-learn.org. See: https://github.com/scikit-learn/scikit-learn/issues/21755 */display: inline-block !important;position: relative;}#sk-container-id-9 div.sk-text-repr-fallback {display: none;}</style><div id=\"sk-container-id-9\" class=\"sk-top-container\"><div class=\"sk-text-repr-fallback\"><pre>XGBClassifier(base_score=None, booster=None, callbacks=None,\n",
       "              colsample_bylevel=None, colsample_bynode=None,\n",
       "              colsample_bytree=None, device=None, early_stopping_rounds=None,\n",
       "              enable_categorical=False, eval_metric=None, feature_types=None,\n",
       "              gamma=None, grow_policy=None, importance_type=None,\n",
       "              interaction_constraints=None, learning_rate=0.1, max_bin=None,\n",
       "              max_cat_threshold=None, max_cat_to_onehot=None,\n",
       "              max_delta_step=None, max_depth=3, max_leaves=None,\n",
       "              min_child_weight=None, missing=nan, monotone_constraints=None,\n",
       "              multi_strategy=None, n_estimators=100, n_jobs=None,\n",
       "              num_parallel_tree=None, random_state=None, ...)</pre><b>In a Jupyter environment, please rerun this cell to show the HTML representation or trust the notebook. <br />On GitHub, the HTML representation is unable to render, please try loading this page with nbviewer.org.</b></div><div class=\"sk-container\" hidden><div class=\"sk-item\"><div class=\"sk-estimator sk-toggleable\"><input class=\"sk-toggleable__control sk-hidden--visually\" id=\"sk-estimator-id-9\" type=\"checkbox\" checked><label for=\"sk-estimator-id-9\" class=\"sk-toggleable__label sk-toggleable__label-arrow\">XGBClassifier</label><div class=\"sk-toggleable__content\"><pre>XGBClassifier(base_score=None, booster=None, callbacks=None,\n",
       "              colsample_bylevel=None, colsample_bynode=None,\n",
       "              colsample_bytree=None, device=None, early_stopping_rounds=None,\n",
       "              enable_categorical=False, eval_metric=None, feature_types=None,\n",
       "              gamma=None, grow_policy=None, importance_type=None,\n",
       "              interaction_constraints=None, learning_rate=0.1, max_bin=None,\n",
       "              max_cat_threshold=None, max_cat_to_onehot=None,\n",
       "              max_delta_step=None, max_depth=3, max_leaves=None,\n",
       "              min_child_weight=None, missing=nan, monotone_constraints=None,\n",
       "              multi_strategy=None, n_estimators=100, n_jobs=None,\n",
       "              num_parallel_tree=None, random_state=None, ...)</pre></div></div></div></div></div>"
      ],
      "text/plain": [
       "XGBClassifier(base_score=None, booster=None, callbacks=None,\n",
       "              colsample_bylevel=None, colsample_bynode=None,\n",
       "              colsample_bytree=None, device=None, early_stopping_rounds=None,\n",
       "              enable_categorical=False, eval_metric=None, feature_types=None,\n",
       "              gamma=None, grow_policy=None, importance_type=None,\n",
       "              interaction_constraints=None, learning_rate=0.1, max_bin=None,\n",
       "              max_cat_threshold=None, max_cat_to_onehot=None,\n",
       "              max_delta_step=None, max_depth=3, max_leaves=None,\n",
       "              min_child_weight=None, missing=nan, monotone_constraints=None,\n",
       "              multi_strategy=None, n_estimators=100, n_jobs=None,\n",
       "              num_parallel_tree=None, random_state=None, ...)"
      ]
     },
     "execution_count": 169,
     "metadata": {},
     "output_type": "execute_result"
    }
   ],
   "source": [
    "xgb_model_two.fit(X_two, y_two)"
   ]
  },
  {
   "cell_type": "code",
   "execution_count": 170,
   "id": "fd95c386-34ef-46a8-88d3-f96fe6738b21",
   "metadata": {},
   "outputs": [
    {
     "name": "stdout",
     "output_type": "stream",
     "text": [
      "\n",
      "Final Test Set Metrics:\n",
      "Accuracy: 0.6211\n",
      "Precision: 0.6156\n",
      "Recall: 0.5511\n",
      "F1 Score: 0.5816\n"
     ]
    }
   ],
   "source": [
    "y_pred = xgb_model_two.predict(X_test_two)\n",
    "\n",
    "# Print final test set metrics\n",
    "print(\"\\nFinal Test Set Metrics:\")\n",
    "print(f\"Accuracy: {accuracy_score(y_test_two, y_pred):.4f}\")\n",
    "print(f\"Precision: {precision_score(y_test_two, y_pred):.4f}\")\n",
    "print(f\"Recall: {recall_score(y_test_two, y_pred):.4f}\")\n",
    "print(f\"F1 Score: {f1_score(y_test_two, y_pred):.4f}\")"
   ]
  },
  {
   "cell_type": "markdown",
   "id": "65474941-e8ef-4e41-9e19-aa2e5a9d0c6e",
   "metadata": {},
   "source": [
    "### Visualize Features"
   ]
  },
  {
   "cell_type": "code",
   "execution_count": 171,
   "id": "d318180c-50fe-4827-bd85-3513bb89570a",
   "metadata": {},
   "outputs": [],
   "source": [
    "def visualize_feature_importance(model, X, n_top_features=10):\n",
    "    importances = model.feature_importances_\n",
    "    \n",
    "    feature_importance_df = pd.DataFrame({\n",
    "        'feature': X.columns,\n",
    "        'importance': importances\n",
    "    })\n",
    "    \n",
    "    top_features = feature_importance_df.sort_values('importance', ascending=False).head(n_top_features)\n",
    "    \n",
    "    plt.figure(figsize=(10, 6))\n",
    "    plt.barh(top_features['feature'], top_features['importance'])\n",
    "    plt.xlabel('Importance')\n",
    "    plt.ylabel('Features')\n",
    "    plt.title(f'Top {n_top_features} Most Important Features')\n",
    "    plt.gca().invert_yaxis()\n",
    "    plt.tight_layout()\n",
    "    plt.show()\n"
   ]
  },
  {
   "cell_type": "code",
   "execution_count": 172,
   "id": "04398a82-f36d-4393-8763-c301fdae7200",
   "metadata": {},
   "outputs": [
    {
     "data": {
      "image/png": "[encoded data removed]",
      "text/plain": [
       "<Figure size 1000x600 with 1 Axes>"
      ]
     },
     "metadata": {},
     "output_type": "display_data"
    }
   ],
   "source": [
    "visualize_feature_importance(xgb_model_one,X_one)"
   ]
  },
  {
   "cell_type": "code",
   "execution_count": 173,
   "id": "8cc58975-7e36-435d-bd13-b17649f9c4e1",
   "metadata": {},
   "outputs": [
    {
     "data": {
      "image/png": "[encoded data removed]",
      "text/plain": [
       "<Figure size 1000x600 with 1 Axes>"
      ]
     },
     "metadata": {},
     "output_type": "display_data"
    }
   ],
   "source": [
    "visualize_feature_importance(xgb_model_two,X_two)"
   ]
  },
  {
   "cell_type": "code",
   "execution_count": 174,
   "id": "97f6dc7d-ae47-4003-bd4e-dfaa0c3b25ee",
   "metadata": {},
   "outputs": [],
   "source": [
    "df_evaluation = pd.read_csv(\"evaluation_test.csv\")\n",
    "df_evaluate_ground = pd.read_csv(\"evaluation.csv\")"
   ]
  },
  {
   "cell_type": "code",
   "execution_count": 177,
   "id": "57f1c953-14a9-49ad-ae7f-7165d2efedeb",
   "metadata": {},
   "outputs": [],
   "source": [
    "df_evaluate_ground['id']=df_evaluate_ground['id'].astype(str)"
   ]
  },
  {
   "cell_type": "code",
   "execution_count": 178,
   "id": "4ba58944-9479-4825-9dee-5d72a5818725",
   "metadata": {},
   "outputs": [],
   "source": [
    "columns_to_add = ['id','long_word_freq', 'short_word_freq', 'capitals', 'followers_count', 'friends_count', 'favourites_count', 'replies']\n",
    "df_evaluate_ground = df_evaluate_ground[columns_to_add]\n",
    "ls = df_evaluation['id']\n",
    "df_evaluate_ground = df_evaluate_ground[df_evaluate_ground['id'].isin(ls)]\n",
    "df_evaluation = pd.merge(df_evaluation, df_evaluate_ground, on='id', how='left')"
   ]
  },
  {
   "cell_type": "code",
   "execution_count": 179,
   "id": "871ea13d-a340-4dc1-ac4a-7918230385ce",
   "metadata": {},
   "outputs": [
    {
     "name": "stdout",
     "output_type": "stream",
     "text": [
      "ERROR\n",
      "ERROR\n",
      "ERROR\n",
      "ERROR\n",
      "ERROR\n",
      "ERROR\n",
      "ERROR\n",
      "ERROR\n",
      "ERROR\n",
      "ERROR\n",
      "ERROR\n"
     ]
    }
   ],
   "source": [
    "df_evaluation[['high', 'medium', 'low']] = df_evaluation['Arousal_perc'].apply(extract_fake_perc).apply(pd.Series)\n",
    "df_evaluation[['positive', 'neutral', 'negative']] = df_evaluation['Valence_perc'].apply(extract_fake_perc).apply(pd.Series)"
   ]
  },
  {
   "cell_type": "code",
   "execution_count": 180,
   "id": "69b7edc6-dc6c-4f30-9cac-d9a73096af57",
   "metadata": {},
   "outputs": [
    {
     "data": {
      "text/html": [
       "<div>\n",
       "<style scoped>\n",
       "    .dataframe tbody tr th:only-of-type {\n",
       "        vertical-align: middle;\n",
       "    }\n",
       "\n",
       "    .dataframe tbody tr th {\n",
       "        vertical-align: top;\n",
       "    }\n",
       "\n",
       "    .dataframe thead th {\n",
       "        text-align: right;\n",
       "    }\n",
       "</style>\n",
       "<table border=\"1\" class=\"dataframe\">\n",
       "  <thead>\n",
       "    <tr style=\"text-align: right;\">\n",
       "      <th></th>\n",
       "      <th>Unnamed: 0</th>\n",
       "      <th>id</th>\n",
       "      <th>BinaryNumTarget</th>\n",
       "      <th>tweet</th>\n",
       "      <th>Arousal_pred</th>\n",
       "      <th>Arousal_perc</th>\n",
       "      <th>Valence_pred</th>\n",
       "      <th>Valence_perc</th>\n",
       "      <th>Fake_pred</th>\n",
       "      <th>Fake_perc</th>\n",
       "      <th>...</th>\n",
       "      <th>followers_count</th>\n",
       "      <th>friends_count</th>\n",
       "      <th>favourites_count</th>\n",
       "      <th>replies</th>\n",
       "      <th>high</th>\n",
       "      <th>medium</th>\n",
       "      <th>low</th>\n",
       "      <th>positive</th>\n",
       "      <th>neutral</th>\n",
       "      <th>negative</th>\n",
       "    </tr>\n",
       "  </thead>\n",
       "  <tbody>\n",
       "    <tr>\n",
       "      <th>0</th>\n",
       "      <td>0</td>\n",
       "      <td>56906</td>\n",
       "      <td>0.0</td>\n",
       "      <td>@whatif31981623 Make a Wish foundation is Refu...</td>\n",
       "      <td>low</td>\n",
       "      <td>[0.1326914131641388, 0.24623245000839233, 0.62...</td>\n",
       "      <td>negative</td>\n",
       "      <td>[0.03171123191714287, 0.03837065026164055, 0.9...</td>\n",
       "      <td>0.0</td>\n",
       "      <td>[0.9999607801437378, 3.9167462091427296e-05]</td>\n",
       "      <td>...</td>\n",
       "      <td>34864.0</td>\n",
       "      <td>27302.0</td>\n",
       "      <td>62171.0</td>\n",
       "      <td>3.0</td>\n",
       "      <td>0.132691</td>\n",
       "      <td>0.246232</td>\n",
       "      <td>0.621076</td>\n",
       "      <td>0.031711</td>\n",
       "      <td>0.038371</td>\n",
       "      <td>0.929918</td>\n",
       "    </tr>\n",
       "    <tr>\n",
       "      <th>1</th>\n",
       "      <td>1</td>\n",
       "      <td>56907</td>\n",
       "      <td>0.0</td>\n",
       "      <td>Ok Im mad. A terminally ill child cant be gran...</td>\n",
       "      <td>high</td>\n",
       "      <td>[0.9318737387657166, 0.03726280853152275, 0.03...</td>\n",
       "      <td>negative</td>\n",
       "      <td>[0.0301770381629467, 0.03047206811606884, 0.93...</td>\n",
       "      <td>0.0</td>\n",
       "      <td>[0.9999581575393677, 4.18948802689556e-05]</td>\n",
       "      <td>...</td>\n",
       "      <td>14677.0</td>\n",
       "      <td>7457.0</td>\n",
       "      <td>192207.0</td>\n",
       "      <td>23.0</td>\n",
       "      <td>0.931874</td>\n",
       "      <td>0.037263</td>\n",
       "      <td>0.030863</td>\n",
       "      <td>0.030177</td>\n",
       "      <td>0.030472</td>\n",
       "      <td>0.939351</td>\n",
       "    </tr>\n",
       "    <tr>\n",
       "      <th>2</th>\n",
       "      <td>2</td>\n",
       "      <td>56908</td>\n",
       "      <td>0.0</td>\n",
       "      <td>Make a wish foundation denied a wish bec the c...</td>\n",
       "      <td>high</td>\n",
       "      <td>[0.9302671551704407, 0.03267449513077736, 0.03...</td>\n",
       "      <td>negative</td>\n",
       "      <td>[0.03034738078713417, 0.03081173449754715, 0.9...</td>\n",
       "      <td>0.0</td>\n",
       "      <td>[0.9999600648880005, 3.9967453631106764e-05]</td>\n",
       "      <td>...</td>\n",
       "      <td>1059.0</td>\n",
       "      <td>1171.0</td>\n",
       "      <td>27744.0</td>\n",
       "      <td>0.0</td>\n",
       "      <td>0.930267</td>\n",
       "      <td>0.032674</td>\n",
       "      <td>0.037058</td>\n",
       "      <td>0.030347</td>\n",
       "      <td>0.030812</td>\n",
       "      <td>0.938841</td>\n",
       "    </tr>\n",
       "    <tr>\n",
       "      <th>3</th>\n",
       "      <td>3</td>\n",
       "      <td>56909</td>\n",
       "      <td>0.0</td>\n",
       "      <td>Conservative social media is raging over a vid...</td>\n",
       "      <td>high</td>\n",
       "      <td>[0.9135966897010803, 0.0564948171377182, 0.029...</td>\n",
       "      <td>negative</td>\n",
       "      <td>[0.030134277418255806, 0.02990962564945221, 0....</td>\n",
       "      <td>0.0</td>\n",
       "      <td>[0.9999620914459229, 3.78719087166246e-05]</td>\n",
       "      <td>...</td>\n",
       "      <td>1970.0</td>\n",
       "      <td>3478.0</td>\n",
       "      <td>32988.0</td>\n",
       "      <td>2.0</td>\n",
       "      <td>0.913597</td>\n",
       "      <td>0.056495</td>\n",
       "      <td>0.029908</td>\n",
       "      <td>0.030134</td>\n",
       "      <td>0.029910</td>\n",
       "      <td>0.939956</td>\n",
       "    </tr>\n",
       "    <tr>\n",
       "      <th>4</th>\n",
       "      <td>4</td>\n",
       "      <td>56910</td>\n",
       "      <td>0.0</td>\n",
       "      <td>Just heard Make a Wish Foundation refused to g...</td>\n",
       "      <td>high</td>\n",
       "      <td>[0.9327077865600586, 0.03121083416044712, 0.03...</td>\n",
       "      <td>negative</td>\n",
       "      <td>[0.029550665989518166, 0.03048470802605152, 0....</td>\n",
       "      <td>0.0</td>\n",
       "      <td>[0.9999599456787109, 4.0039703890215605e-05]</td>\n",
       "      <td>...</td>\n",
       "      <td>440.0</td>\n",
       "      <td>975.0</td>\n",
       "      <td>17834.0</td>\n",
       "      <td>0.0</td>\n",
       "      <td>0.932708</td>\n",
       "      <td>0.031211</td>\n",
       "      <td>0.036081</td>\n",
       "      <td>0.029551</td>\n",
       "      <td>0.030485</td>\n",
       "      <td>0.939965</td>\n",
       "    </tr>\n",
       "  </tbody>\n",
       "</table>\n",
       "<p>5 rows × 23 columns</p>\n",
       "</div>"
      ],
      "text/plain": [
       "  Unnamed: 0     id BinaryNumTarget  \\\n",
       "0          0  56906             0.0   \n",
       "1          1  56907             0.0   \n",
       "2          2  56908             0.0   \n",
       "3          3  56909             0.0   \n",
       "4          4  56910             0.0   \n",
       "\n",
       "                                               tweet Arousal_pred  \\\n",
       "0  @whatif31981623 Make a Wish foundation is Refu...          low   \n",
       "1  Ok Im mad. A terminally ill child cant be gran...         high   \n",
       "2  Make a wish foundation denied a wish bec the c...         high   \n",
       "3  Conservative social media is raging over a vid...         high   \n",
       "4  Just heard Make a Wish Foundation refused to g...         high   \n",
       "\n",
       "                                        Arousal_perc Valence_pred  \\\n",
       "0  [0.1326914131641388, 0.24623245000839233, 0.62...     negative   \n",
       "1  [0.9318737387657166, 0.03726280853152275, 0.03...     negative   \n",
       "2  [0.9302671551704407, 0.03267449513077736, 0.03...     negative   \n",
       "3  [0.9135966897010803, 0.0564948171377182, 0.029...     negative   \n",
       "4  [0.9327077865600586, 0.03121083416044712, 0.03...     negative   \n",
       "\n",
       "                                        Valence_perc  Fake_pred  \\\n",
       "0  [0.03171123191714287, 0.03837065026164055, 0.9...        0.0   \n",
       "1  [0.0301770381629467, 0.03047206811606884, 0.93...        0.0   \n",
       "2  [0.03034738078713417, 0.03081173449754715, 0.9...        0.0   \n",
       "3  [0.030134277418255806, 0.02990962564945221, 0....        0.0   \n",
       "4  [0.029550665989518166, 0.03048470802605152, 0....        0.0   \n",
       "\n",
       "                                      Fake_perc  ...  followers_count  \\\n",
       "0  [0.9999607801437378, 3.9167462091427296e-05]  ...          34864.0   \n",
       "1    [0.9999581575393677, 4.18948802689556e-05]  ...          14677.0   \n",
       "2  [0.9999600648880005, 3.9967453631106764e-05]  ...           1059.0   \n",
       "3    [0.9999620914459229, 3.78719087166246e-05]  ...           1970.0   \n",
       "4  [0.9999599456787109, 4.0039703890215605e-05]  ...            440.0   \n",
       "\n",
       "   friends_count  favourites_count  replies      high    medium       low  \\\n",
       "0        27302.0           62171.0      3.0  0.132691  0.246232  0.621076   \n",
       "1         7457.0          192207.0     23.0  0.931874  0.037263  0.030863   \n",
       "2         1171.0           27744.0      0.0  0.930267  0.032674  0.037058   \n",
       "3         3478.0           32988.0      2.0  0.913597  0.056495  0.029908   \n",
       "4          975.0           17834.0      0.0  0.932708  0.031211  0.036081   \n",
       "\n",
       "   positive   neutral  negative  \n",
       "0  0.031711  0.038371  0.929918  \n",
       "1  0.030177  0.030472  0.939351  \n",
       "2  0.030347  0.030812  0.938841  \n",
       "3  0.030134  0.029910  0.939956  \n",
       "4  0.029551  0.030485  0.939965  \n",
       "\n",
       "[5 rows x 23 columns]"
      ]
     },
     "execution_count": 180,
     "metadata": {},
     "output_type": "execute_result"
    }
   ],
   "source": [
    "df_evaluation.head()"
   ]
  },
  {
   "cell_type": "code",
   "execution_count": 185,
   "id": "b82fafee-dd29-451a-a9c2-8c1551999501",
   "metadata": {},
   "outputs": [],
   "source": [
    "columns = ['high', 'medium', 'low', 'positive', 'neutral', 'negative']\n",
    "for column in columns:\n",
    "    df_evaluation.dropna(subset=[column], inplace=True)"
   ]
  },
  {
   "cell_type": "code",
   "execution_count": 187,
   "id": "413652a7-6971-4834-882e-7255885149da",
   "metadata": {},
   "outputs": [
    {
     "data": {
      "text/plain": [
       "0        0\n",
       "1        0\n",
       "2        0\n",
       "3        0\n",
       "4        0\n",
       "        ..\n",
       "30192    1\n",
       "30193    1\n",
       "30194    1\n",
       "30195    1\n",
       "30196    1\n",
       "Name: fake, Length: 30190, dtype: int64"
      ]
     },
     "execution_count": 187,
     "metadata": {},
     "output_type": "execute_result"
    }
   ],
   "source": [
    "df_evaluation['fake'] = df_evaluation['BinaryNumTarget'].astype(float).astype(int)\n",
    "df_evaluation['fake']"
   ]
  },
  {
   "cell_type": "code",
   "execution_count": 194,
   "id": "a45f84d9-11ef-4f15-ae2e-917afe94fa16",
   "metadata": {},
   "outputs": [],
   "source": [
    "def evaluate_model(model, df, df_eval, name):\n",
    "    y_pred = model.predict(df)\n",
    "    accuracy = accuracy_score(df_eval, y_pred)\n",
    "    precision = precision_score(df_eval, y_pred)\n",
    "    recall = recall_score(df_eval, y_pred)\n",
    "    f1 = f1_score(df_eval, y_pred)\n",
    "\n",
    "    return  {\n",
    "        'accuracy': accuracy,\n",
    "        'precision': precision,\n",
    "        'recall': recall,\n",
    "        'f1': f1}    \n",
    "    print(classification_report(df_eval, y_pred))"
   ]
  },
  {
   "cell_type": "code",
   "execution_count": 195,
   "id": "3d7a08ed-63d9-456c-9482-54bdf4a0d3da",
   "metadata": {},
   "outputs": [],
   "source": [
    "struktur = df_evaluation[['high', 'medium', 'low', 'positive', 'neutral', 'negative']]"
   ]
  },
  {
   "cell_type": "code",
   "execution_count": 196,
   "id": "1b546aff-5085-4569-88dd-87efd9c98274",
   "metadata": {},
   "outputs": [
    {
     "data": {
      "text/plain": [
       "{'accuracy': 0.6020536601523684,\n",
       " 'precision': 0.6006915540756868,\n",
       " 'recall': 0.6188402928953097,\n",
       " 'f1': 0.6096308812061347}"
      ]
     },
     "execution_count": 196,
     "metadata": {},
     "output_type": "execute_result"
    }
   ],
   "source": [
    "# Model 1\n",
    "evaluate_model(xgb_model_one,struktur,df_evaluation['fake'],\"Model 1\" )"
   ]
  },
  {
   "cell_type": "code",
   "execution_count": 122,
   "id": "97af60c5-8398-4214-b4ed-decce838a227",
   "metadata": {},
   "outputs": [
    {
     "name": "stdout",
     "output_type": "stream",
     "text": [
      "Genauigkeit Model 2: 0.6042066909572706\n",
      "              precision    recall  f1-score   support\n",
      "\n",
      "           0       0.59      0.66      0.62     15031\n",
      "           1       0.62      0.55      0.58     15159\n",
      "\n",
      "    accuracy                           0.60     30190\n",
      "   macro avg       0.61      0.60      0.60     30190\n",
      "weighted avg       0.61      0.60      0.60     30190\n",
      "\n"
     ]
    }
   ],
   "source": [
    "# Model 2\n",
    "evaluate_model(xgb_model_two,struktur,df_evaluation['fake'],\"Model 2\" )"
   ]
  }
 ],
 "metadata": {
  "kernelspec": {
   "display_name": "Python 3 (ipykernel)",
   "language": "python",
   "name": "python3"
  },
  "language_info": {
   "codemirror_mode": {
    "name": "ipython",
    "version": 3
   },
   "file_extension": ".py",
   "mimetype": "text/x-python",
   "name": "python",
   "nbconvert_exporter": "python",
   "pygments_lexer": "ipython3",
   "version": "3.11.7"
  }
 },
 "nbformat": 4,
 "nbformat_minor": 5
}
