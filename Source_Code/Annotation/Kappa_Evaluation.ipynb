{
 "cells": [
  {
   "cell_type": "markdown",
   "id": "076d4f06-cd5a-48c9-ae3a-523014546979",
   "metadata": {},
   "source": [
    "# Kappa Values"
   ]
  },
  {
   "cell_type": "markdown",
   "id": "5bb5221b-a94a-4d9b-8aff-fae377d46a4c",
   "metadata": {},
   "source": [
    "In this notebook, the Kappa values are calculated in order to find the most suitable model for tweet annotation, based on the given annotations."
   ]
  },
  {
   "cell_type": "code",
   "execution_count": 19,
   "id": "f23e3e3a-e475-4319-af22-66c381c664e9",
   "metadata": {},
   "outputs": [],
   "source": [
    "import pandas as pd\n",
    "import numpy as np\n",
    "from sklearn.metrics import cohen_kappa_score\n",
    "import math\n",
    "from scipy import stats\n",
    "from scipy.special import log_ndtr"
   ]
  },
  {
   "cell_type": "code",
   "execution_count": 2,
   "id": "c3725527-be6a-48fe-abf5-07658eb0a934",
   "metadata": {},
   "outputs": [],
   "source": [
    "df_human_ground_trth = pd.read_csv(\"../Dataset/human_truth.csv\",delimiter=\";\")\n",
    "df_annotator_one = pd.read_csv(\"../Dataset/annotator_one.csv\")\n",
    "df_annotator_two = pd.read_csv(\"../Dataset/annotator_two.csv\")\n",
    "df_gpt_3_5 = pd.read_csv(\"../Dataset/GPT-3.5.csv\")\n",
    "df_gpt_4o_mini = pd.read_csv(\"../Dataset/GPT4omini.csv\")"
   ]
  },
  {
   "cell_type": "code",
   "execution_count": 36,
   "id": "7297533c-ce7d-4fbf-b343-5d9cf24e5da3",
   "metadata": {},
   "outputs": [],
   "source": [
    "df_annotator_one = df_annotator_one.dropna(subset=['valence','arousal'])\n",
    "df_annotator_two = df_annotator_two.dropna(subset=['valence','arousal'])"
   ]
  },
  {
   "cell_type": "code",
   "execution_count": 5,
   "id": "4ffb43e6-8b57-4569-8969-2be0ae0e969f",
   "metadata": {},
   "outputs": [],
   "source": [
    "def preprocess_df(df):\n",
    "    valence_map = {'positive': 0, 'neutral': 1, 'negative': 2}\n",
    "    arousal_map = {'high': 0, 'medium': 1, 'low': 2}\n",
    "    \n",
    "    df['Valence'] = df['valence'].map(valence_map)\n",
    "    df['Arousal'] = df['arousal'].map(arousal_map)\n",
    "    df = df.dropna(subset=['Valence', 'Arousal'])\n",
    "\n",
    "    df['Valence'] = df['Valence'].astype(int)\n",
    "    df['Arousal'] = df['Arousal'].astype(int)\n",
    "\n",
    "    \n",
    "    df['Combined'] = df['Valence'].astype(str) + '_' + df['Arousal'].astype(str)\n",
    "    df = df.dropna(subset=['Valence', 'Arousal', 'Combined'])\n",
    "    \n",
    "    return df"
   ]
  },
  {
   "cell_type": "code",
   "execution_count": 6,
   "id": "f4a72cd3-736d-4a5b-9158-4ceef82fec34",
   "metadata": {},
   "outputs": [],
   "source": [
    "def jackknife_kappa(y1, y2):\n",
    "    n = len(y1)\n",
    "    kappas = np.zeros(n)\n",
    "    \n",
    "    for i in range(n):\n",
    "        mask = np.ones(n, dtype=bool)\n",
    "        mask[i] = False\n",
    "        kappas[i] = cohen_kappa_score(y1[mask], y2[mask])\n",
    "    \n",
    "    kappa = cohen_kappa_score(y1, y2)\n",
    "    se = np.sqrt(((n-1)/n) * np.sum((kappas - np.mean(kappas))**2))\n",
    "    \n",
    "    return kappa, se\n"
   ]
  },
  {
   "cell_type": "code",
   "execution_count": 7,
   "id": "9b16ea93-bfa7-4989-b651-aae42add2179",
   "metadata": {},
   "outputs": [],
   "source": [
    "def calculate_kappa(df_label_one, df_label_two):\n",
    "    df1_processed = preprocess_df(df_label_one)\n",
    "    df2_processed = preprocess_df(df_label_two)\n",
    "\n",
    "    common_index = df1_processed.index.intersection(df2_processed.index)\n",
    "    df1_processed = df1_processed.loc[common_index]\n",
    "    df2_processed = df2_processed.loc[common_index]\n",
    "\n",
    "    df1_processed['Combined'] = df1_processed['Combined'].astype(str)\n",
    "    df2_processed['Combined'] = df2_processed['Combined'].astype(str)\n",
    "\n",
    "    kappa_valence, se_valence = jackknife_kappa(df1_processed['Valence'].values, df2_processed['Valence'].values)\n",
    "    kappa_arousal, se_arousal = jackknife_kappa(df1_processed['Arousal'].values, df2_processed['Arousal'].values)\n",
    "    kappa_combined, se_combined = jackknife_kappa(df1_processed['Combined'].values, df2_processed['Combined'].values)\n",
    "\n",
    "    return (kappa_valence, se_valence), (kappa_arousal, se_arousal), (kappa_combined, se_combined)"
   ]
  },
  {
   "cell_type": "code",
   "execution_count": 8,
   "id": "c1d71112-7a66-4f8e-8570-1de0371102d9",
   "metadata": {},
   "outputs": [
    {
     "name": "stderr",
     "output_type": "stream",
     "text": [
      "/tmp/ipykernel_48/417968915.py:9: SettingWithCopyWarning: \n",
      "A value is trying to be set on a copy of a slice from a DataFrame.\n",
      "Try using .loc[row_indexer,col_indexer] = value instead\n",
      "\n",
      "See the caveats in the documentation: https://pandas.pydata.org/pandas-docs/stable/user_guide/indexing.html#returning-a-view-versus-a-copy\n",
      "  df['Valence'] = df['Valence'].astype(int)\n",
      "/tmp/ipykernel_48/417968915.py:10: SettingWithCopyWarning: \n",
      "A value is trying to be set on a copy of a slice from a DataFrame.\n",
      "Try using .loc[row_indexer,col_indexer] = value instead\n",
      "\n",
      "See the caveats in the documentation: https://pandas.pydata.org/pandas-docs/stable/user_guide/indexing.html#returning-a-view-versus-a-copy\n",
      "  df['Arousal'] = df['Arousal'].astype(int)\n",
      "/tmp/ipykernel_48/417968915.py:13: SettingWithCopyWarning: \n",
      "A value is trying to be set on a copy of a slice from a DataFrame.\n",
      "Try using .loc[row_indexer,col_indexer] = value instead\n",
      "\n",
      "See the caveats in the documentation: https://pandas.pydata.org/pandas-docs/stable/user_guide/indexing.html#returning-a-view-versus-a-copy\n",
      "  df['Combined'] = df['Valence'].astype(str) + '_' + df['Arousal'].astype(str)\n",
      "/tmp/ipykernel_48/417968915.py:9: SettingWithCopyWarning: \n",
      "A value is trying to be set on a copy of a slice from a DataFrame.\n",
      "Try using .loc[row_indexer,col_indexer] = value instead\n",
      "\n",
      "See the caveats in the documentation: https://pandas.pydata.org/pandas-docs/stable/user_guide/indexing.html#returning-a-view-versus-a-copy\n",
      "  df['Valence'] = df['Valence'].astype(int)\n",
      "/tmp/ipykernel_48/417968915.py:10: SettingWithCopyWarning: \n",
      "A value is trying to be set on a copy of a slice from a DataFrame.\n",
      "Try using .loc[row_indexer,col_indexer] = value instead\n",
      "\n",
      "See the caveats in the documentation: https://pandas.pydata.org/pandas-docs/stable/user_guide/indexing.html#returning-a-view-versus-a-copy\n",
      "  df['Arousal'] = df['Arousal'].astype(int)\n",
      "/tmp/ipykernel_48/417968915.py:13: SettingWithCopyWarning: \n",
      "A value is trying to be set on a copy of a slice from a DataFrame.\n",
      "Try using .loc[row_indexer,col_indexer] = value instead\n",
      "\n",
      "See the caveats in the documentation: https://pandas.pydata.org/pandas-docs/stable/user_guide/indexing.html#returning-a-view-versus-a-copy\n",
      "  df['Combined'] = df['Valence'].astype(str) + '_' + df['Arousal'].astype(str)\n",
      "/tmp/ipykernel_48/417968915.py:9: SettingWithCopyWarning: \n",
      "A value is trying to be set on a copy of a slice from a DataFrame.\n",
      "Try using .loc[row_indexer,col_indexer] = value instead\n",
      "\n",
      "See the caveats in the documentation: https://pandas.pydata.org/pandas-docs/stable/user_guide/indexing.html#returning-a-view-versus-a-copy\n",
      "  df['Valence'] = df['Valence'].astype(int)\n",
      "/tmp/ipykernel_48/417968915.py:10: SettingWithCopyWarning: \n",
      "A value is trying to be set on a copy of a slice from a DataFrame.\n",
      "Try using .loc[row_indexer,col_indexer] = value instead\n",
      "\n",
      "See the caveats in the documentation: https://pandas.pydata.org/pandas-docs/stable/user_guide/indexing.html#returning-a-view-versus-a-copy\n",
      "  df['Arousal'] = df['Arousal'].astype(int)\n",
      "/tmp/ipykernel_48/417968915.py:13: SettingWithCopyWarning: \n",
      "A value is trying to be set on a copy of a slice from a DataFrame.\n",
      "Try using .loc[row_indexer,col_indexer] = value instead\n",
      "\n",
      "See the caveats in the documentation: https://pandas.pydata.org/pandas-docs/stable/user_guide/indexing.html#returning-a-view-versus-a-copy\n",
      "  df['Combined'] = df['Valence'].astype(str) + '_' + df['Arousal'].astype(str)\n"
     ]
    }
   ],
   "source": [
    "(ann_ann_valence, se_ann_ann_valence), (ann_ann_arousal, se_ann_ann_arousal), (ann_ann_combined, se_ann_ann_combined) = calculate_kappa(df_annotator_one, df_annotator_two)\n",
    "(ground_gpt3_valence, se_ground_gpt3_valence), (ground_gpt3_arousal, se_ground_gpt3_arousal), (ground_gpt3_combined, se_ann_ground_gpt3_combined)= calculate_kappa(df_human_ground_trth, df_gpt_3_5)\n",
    "(ground_gpt4o_valence, se_ground_gpt4o_valence), (ground_gpt4o_arousal, se_ground_gpt4o_arousal), (ground_gpt4o_combined, se_ground_gpt4o_combined)= calculate_kappa(df_human_ground_trth, df_gpt_4o_mini)"
   ]
  },
  {
   "cell_type": "code",
   "execution_count": 9,
   "id": "7a4b86e9-d743-48cf-a29e-221ca5c54008",
   "metadata": {},
   "outputs": [
    {
     "name": "stdout",
     "output_type": "stream",
     "text": [
      "##########Annotator_one | Anotator_two##########\n",
      "Cohen's Kappa for Valence: 0.6039\n",
      "Cohen's Kappa for Valence Fehler: 0.0272\n",
      "Cohen's Kappa for Arousal: 0.4340\n",
      "Cohen's Kappa for Arousal Fehler: 0.0234\n",
      "Cohen's Kappa for Combined: 0.3883\n",
      "Cohen's Kappa for Combined Fehler: 0.0200\n",
      "##########Human Ground Truth | GPT 3.5 Turbo##########\n",
      "Cohen's Kappa for Valence: 0.8274\n",
      "Cohen's Kappa for Valence Fehler: 0.0189\n",
      "Cohen's Kappa for Arousal: 0.7385\n",
      "Cohen's Kappa for Arousal Fehler: 0.0176\n",
      "Cohen's Kappa for Combined: 0.7193\n",
      "Cohen's Kappa for Combined Fehler: 0.0165\n",
      "##########Human Ground Truth | GPT 4o mini##########\n",
      "Cohen's Kappa for Valence: 0.6691\n",
      "Cohen's Kappa for Valence Fehler: 0.0241\n",
      "Cohen's Kappa for Arousal: 0.4580\n",
      "Cohen's Kappa for Arousal Fehler: 0.0228\n",
      "Cohen's Kappa for Combined: 0.4264\n",
      "Cohen's Kappa for Combined Fehler: 0.0192\n"
     ]
    }
   ],
   "source": [
    "print(10*'#'+'Annotator_one | Anotator_two'+ 10*'#')\n",
    "print(f\"Cohen's Kappa for Valence: {ann_ann_valence:.4f}\")\n",
    "print(f\"Cohen's Kappa for Valence Fehler: {se_ann_ann_valence:.4f}\")\n",
    "print(f\"Cohen's Kappa for Arousal: {ann_ann_arousal:.4f}\")\n",
    "print(f\"Cohen's Kappa for Arousal Fehler: {se_ann_ann_arousal:.4f}\")\n",
    "print(f\"Cohen's Kappa for Combined: {ann_ann_combined:.4f}\")\n",
    "print(f\"Cohen's Kappa for Combined Fehler: {se_ann_ann_combined:.4f}\")\n",
    "print(10*'#'+'Human Ground Truth | GPT 3.5 Turbo'+ 10*'#')\n",
    "print(f\"Cohen's Kappa for Valence: {ground_gpt3_valence:.4f}\")\n",
    "print(f\"Cohen's Kappa for Valence Fehler: {se_ground_gpt3_valence:.4f}\")\n",
    "print(f\"Cohen's Kappa for Arousal: {ground_gpt3_arousal:.4f}\")\n",
    "print(f\"Cohen's Kappa for Arousal Fehler: {se_ground_gpt3_arousal:.4f}\")\n",
    "print(f\"Cohen's Kappa for Combined: {ground_gpt3_combined:.4f}\")\n",
    "print(f\"Cohen's Kappa for Combined Fehler: {se_ann_ground_gpt3_combined:.4f}\")\n",
    "print(10*'#'+'Human Ground Truth | GPT 4o mini'+ 10*'#')\n",
    "print(f\"Cohen's Kappa for Valence: {ground_gpt4o_valence:.4f}\")\n",
    "print(f\"Cohen's Kappa for Valence Fehler: {se_ground_gpt4o_valence:.4f}\")\n",
    "print(f\"Cohen's Kappa for Arousal: {ground_gpt4o_arousal:.4f}\")\n",
    "print(f\"Cohen's Kappa for Arousal Fehler: {se_ground_gpt4o_arousal:.4f}\")\n",
    "print(f\"Cohen's Kappa for Combined: {ground_gpt4o_combined:.4f}\")\n",
    "print(f\"Cohen's Kappa for Combined Fehler: {se_ground_gpt4o_combined:.4f}\")"
   ]
  },
  {
   "cell_type": "code",
   "execution_count": 20,
   "id": "e7df4e8d-7d26-4ee0-9e5d-71121ed3db7b",
   "metadata": {},
   "outputs": [
    {
     "name": "stdout",
     "output_type": "stream",
     "text": [
      "Z-Wert: 11.5732\n",
      "p-Wert: 5.6355e-31\n"
     ]
    }
   ],
   "source": [
    "def calculate_z_score(kappa1, se1, kappa2, se2):\n",
    "    z = (kappa1 - kappa2) / math.sqrt(se1**2 + se2**2)\n",
    "    log_p_value = log_ndtr(-abs(z)) + np.log(2)  # Log des zweiseitigen p-Werts\n",
    "    return z, log_p_value\n",
    "\n",
    "z_score, log_p_value = calculate_z_score(ground_gpt3_combined, se_ann_ground_gpt3_combined, ground_gpt4o_combined, se_ground_gpt4o_combined)\n",
    "print(f\"Z-Wert: {z_score:.4f}\")\n",
    "print(f\"p-Wert: {np.exp(log_p_value):.4e}\")"
   ]
  },
  {
   "cell_type": "code",
   "execution_count": null,
   "id": "d6091542-76d4-4747-afef-8f89c9bb5d50",
   "metadata": {},
   "outputs": [],
   "source": []
  }
 ],
 "metadata": {
  "kernelspec": {
   "display_name": "Python 3 (ipykernel)",
   "language": "python",
   "name": "python3"
  },
  "language_info": {
   "codemirror_mode": {
    "name": "ipython",
    "version": 3
   },
   "file_extension": ".py",
   "mimetype": "text/x-python",
   "name": "python",
   "nbconvert_exporter": "python",
   "pygments_lexer": "ipython3",
   "version": "3.11.7"
  }
 },
 "nbformat": 4,
 "nbformat_minor": 5
}
